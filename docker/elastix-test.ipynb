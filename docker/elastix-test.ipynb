{
 "cells": [
  {
   "cell_type": "code",
   "execution_count": null,
   "id": "5159fda4",
   "metadata": {},
   "outputs": [],
   "source": [
    "from nd2reader import ND2Reader\n",
    "import numpy as np\n",
    "import nrrd\n",
    "import os\n",
    "\n",
    "def readtxt(filename):\n",
    "    a = open(filename)\n",
    "    content = a.readlines()\n",
    "    a.close()\n",
    "    return content\n",
    "\n",
    "def nd2ToVol(filename, channel_name='405', ratio=1):\n",
    "    vol = ND2Reader(filename)\n",
    "    channel_names = vol.metadata['channels']\n",
    "    channel_id = [x for x in range(len(channel_names)) if channel_name in channel_names[x]]\n",
    "    assert len(channel_id) == 1\n",
    "    channel_id = channel_id[0]\n",
    "    \n",
    "    out = np.zeros([len(vol), vol[0].shape[0] // ratio, vol[0].shape[1] // ratio], np.uint16)\n",
    "    for z in range(len(vol)):\n",
    "        out[z] = vol.get_frame_2D(c=channel_id, t=0, z=z, x=0, y=0, v=0)[::ratio, ::ratio]\n",
    "    return out\n",
    "\n",
    "De = './src/elastix-4.9.0-linux/'"
   ]
  },
  {
   "cell_type": "code",
   "execution_count": null,
   "id": "e3f6e598",
   "metadata": {},
   "outputs": [],
   "source": [
    "nd2s = ['/src/20211130_larva1_barcode3.nd2', '/src/20211130_larva1_barcode5.nd2']\n",
    "nrrds = ['/src/src/20211130_larva1_barcode3.nrrd', '/src/src/20211130_larva1_barcode5.nrrd']\n",
    "output = '/src/src/021-11-29_WORMseq6/WORMSeq6_S3_barcode5/20211130_larva/20211130_larva1_barcode5_aligned/'\n",
    "\n",
    "#print('channels:', ND2Reader(nd2s[0]).metadata['channels'])\n",
    "\n",
    "for nid in range(2):\n",
    "    if not os.path.exists(nrrds[nid]):\n",
    "        vol = nd2ToVol(nd2s[nid], channel_name='405', ratio=1)\n",
    "        nrrd.write(nrrds[nid], vol, header={'spacings': [4,1.625,1.625]})\n",
    "\n",
    "cmd = '! LD_LIBRARY_PATH=$LD_LIBRARY_PATH:%s/lib; %s/bin/elastix -f %s -m %s -out %s -p Parameters.txt' \\\n",
    "          % (De, De, nrrds[0], nrrds[1], output)\n",
    "os.system('mkdir -p %s' %output)\n",
    "print('copy the command below for execution')\n",
    "print('---------------')\n",
    "print(cmd)\n",
    "print('---------------')"
   ]
  },
  {
   "cell_type": "code",
   "execution_count": null,
   "id": "fe8a3a69",
   "metadata": {},
   "outputs": [],
   "source": [
    "# set dynamic library path\n",
    "%env LD_LIBRARY_PATH=/src/elastix-4.9.0-linux/lib:$LD_LIBRARY_PATH"
   ]
  },
  {
   "cell_type": "code",
   "execution_count": null,
   "id": "3c2bb5bb",
   "metadata": {},
   "outputs": [],
   "source": [
    "# sanity check\n",
    "%env"
   ]
  },
  {
   "cell_type": "code",
   "execution_count": null,
   "id": "240a5072",
   "metadata": {},
   "outputs": [],
   "source": [
    "%cd /src/elastix-4.9.0-linux/bin/"
   ]
  },
  {
   "cell_type": "code",
   "execution_count": null,
   "id": "ff541e6f",
   "metadata": {},
   "outputs": [],
   "source": [
    "! ./elastix -f /src/src/20211130_larva1_barcode3.nrrd -m /src/src/20211130_larva1_barcode5.nrrd -out /src/src/021-11-29_WORMseq6/WORMSeq6_S3_barcode5/20211130_larva/20211130_larva1_barcode5_aligned/ -p /src/Parameters.txt"
   ]
  },
  {
   "cell_type": "code",
   "execution_count": null,
   "id": "bb68b684",
   "metadata": {},
   "outputs": [],
   "source": [
    "!echo $LD_LIBRARY_PATH"
   ]
  },
  {
   "cell_type": "code",
   "execution_count": null,
   "id": "67692a1d",
   "metadata": {},
   "outputs": [],
   "source": [
    "!./elastix --help"
   ]
  },
  {
   "cell_type": "code",
   "execution_count": null,
   "id": "6a229445",
   "metadata": {},
   "outputs": [],
   "source": [
    "ff = ND2Reader(nd2s[0])\n",
    "ff.metadata"
   ]
  },
  {
   "cell_type": "code",
   "execution_count": null,
   "id": "facf38c0",
   "metadata": {},
   "outputs": [],
   "source": [
    "ff.metadata.keys()"
   ]
  },
  {
   "cell_type": "code",
   "execution_count": null,
   "id": "afab9ffa",
   "metadata": {},
   "outputs": [],
   "source": [
    "ff.metadata['pixel_microns'], ff.metadata['total_images_per_channel']\n",
    "ff.metadata['z_coordinates']\n",
    "ff.metadata['pixel_microns'],ff.metadata['z_levels']"
   ]
  },
  {
   "cell_type": "code",
   "execution_count": null,
   "id": "ebc41e7e",
   "metadata": {},
   "outputs": [],
   "source": [
    "ff.sizes\n",
    "dir(ff)"
   ]
  }
 ],
 "metadata": {
  "kernelspec": {
   "display_name": "Python 3 (ipykernel)",
   "language": "python",
   "name": "python3"
  },
  "language_info": {
   "codemirror_mode": {
    "name": "ipython",
    "version": 3
   },
   "file_extension": ".py",
   "mimetype": "text/x-python",
   "name": "python",
   "nbconvert_exporter": "python",
   "pygments_lexer": "ipython3",
   "version": "3.8.10"
  }
 },
 "nbformat": 4,
 "nbformat_minor": 5
}
