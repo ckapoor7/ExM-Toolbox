{
 "cells": [
  {
   "cell_type": "code",
   "execution_count": null,
   "id": "d2fed7df",
   "metadata": {},
   "outputs": [],
   "source": [
    "from nd2reader import ND2Reader\n",
    "import numpy as np\n",
    "import nrrd\n",
    "import os\n",
    "\n",
    "def readtxt(filename):\n",
    "    a = open(filename)\n",
    "    content = a.readlines()\n",
    "    a.close()\n",
    "    return content\n",
    "\n",
    "def nd2ToVol(filename, channel_name='405', ratio=1):\n",
    "    vol = ND2Reader(filename)\n",
    "    channel_names = vol.metadata['channels']\n",
    "    channel_id = [x for x in range(len(channel_names)) if channel_name in channel_names[x]]\n",
    "    assert len(channel_id) == 1\n",
    "    channel_id = channel_id[0]\n",
    "    \n",
    "    out = np.zeros([len(vol), vol[0].shape[0] // ratio, vol[0].shape[1] // ratio], np.uint16)\n",
    "    for z in range(len(vol)):\n",
    "        out[z] = vol.get_frame_2D(c=channel_id, t=0, z=z, x=0, y=0, v=0)[::ratio, ::ratio]\n",
    "    return out\n",
    "\n",
    "De = './elastix-4.9.0-linux/'"
   ]
  },
  {
   "cell_type": "code",
   "execution_count": null,
   "id": "ac1ba875",
   "metadata": {},
   "outputs": [],
   "source": [
    "nd2s = ['/src/src/20211130_larva1_barcode3.nd2', '/src/src/20211130_larva1_barcode5.nd2']\n",
    "nrrds = ['/src/src/20211130_larva1_barcode3.nrrd', '/src/src/20211130_larva1_barcode5.nrrd']\n",
    "output = '/src/src/20211130_larva1_barcode5/aligned_/'\n",
    "\n",
    "print('channels:', ND2Reader(nd2s[0]).metadata['channels'])\n",
    "\n",
    "for nid in range(2):\n",
    "    if not os.path.exists(nrrds[nid]):\n",
    "        vol = nd2ToVol(nd2s[nid], channel_name='405', ratio=1)\n",
    "        nrrd.write(nrrds[nid], vol, header={'spacings': [4,1.625,1.625]})\n",
    "\n",
    "cmd = '! LD_LIBRARY_PATH=$LD_LIBRARY_PATH:%s/lib; %s/bin/elastix -f %s -m %s -out %s -p Parameters.txt' \\\n",
    "          % (De, De, nrrds[0], nrrds[1], output)\n",
    "os.system('mkdir %s' %output)\n",
    "print('copy the command below for execution')\n",
    "print('---------------')\n",
    "print(cmd)\n",
    "print('---------------')"
   ]
  },
  {
   "cell_type": "code",
   "execution_count": null,
   "id": "2e9f99bf",
   "metadata": {},
   "outputs": [],
   "source": [
    "! LD_LIBRARY_PATH=$LD_LIBRARY_PATH:./elastix-4.9.0-linux/lib; ./elastix-4.9.0-linux/bin/elastix -f 20211130_larva1_barcode3.nrrd -m 20211130_larva1_barcode5.nrrd -out /content/drive/MyDrive/2021-11-29_WORMseq6/WORMSeq6_S3_barcode5/20211130_larva/20211130_larva1_barcode5_aligned/ -p Parameters.txt"
   ]
  },
  {
   "cell_type": "code",
   "execution_count": null,
   "id": "a4f097eb",
   "metadata": {},
   "outputs": [],
   "source": [
    "!echo $LD_LIBRARY_PATH"
   ]
  },
  {
   "cell_type": "code",
   "execution_count": null,
   "id": "d6f9bc53",
   "metadata": {},
   "outputs": [],
   "source": [
    "ff = ND2Reader(nd2s[0])\n",
    "ff.metadata"
   ]
  },
  {
   "cell_type": "code",
   "execution_count": null,
   "id": "97deb436",
   "metadata": {},
   "outputs": [],
   "source": [
    "ff.metadata.keys()"
   ]
  },
  {
   "cell_type": "code",
   "execution_count": null,
   "id": "c89207b1",
   "metadata": {},
   "outputs": [],
   "source": [
    "ff.metadata['pixel_microns'], ff.metadata['total_images_per_channel']\n",
    "ff.metadata['z_coordinates']\n",
    "ff.metadata['pixel_microns'],ff.metadata['z_levels']"
   ]
  },
  {
   "cell_type": "code",
   "execution_count": null,
   "id": "8d65beec",
   "metadata": {},
   "outputs": [],
   "source": [
    "ff.sizes\n",
    "dir(ff)"
   ]
  }
 ],
 "metadata": {
  "kernelspec": {
   "display_name": "Python 3 (ipykernel)",
   "language": "python",
   "name": "python3"
  },
  "language_info": {
   "codemirror_mode": {
    "name": "ipython",
    "version": 3
   },
   "file_extension": ".py",
   "mimetype": "text/x-python",
   "name": "python",
   "nbconvert_exporter": "python",
   "pygments_lexer": "ipython3",
   "version": "3.8.10"
  }
 },
 "nbformat": 4,
 "nbformat_minor": 5
}
