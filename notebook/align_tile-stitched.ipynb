{
 "cells": [
  {
   "cell_type": "markdown",
   "id": "1d00eb2a-c667-4e4d-8642-237c6a40f225",
   "metadata": {},
   "source": [
    "# Goal: Align raw tiles to a stitched volume"
   ]
  },
  {
   "cell_type": "markdown",
   "id": "3841c86a-677c-4d76-8870-20c7a50ebeb8",
   "metadata": {},
   "source": [
    "## Step 0. Parameter setup"
   ]
  },
  {
   "cell_type": "code",
   "execution_count": 1,
   "id": "e8a65d20-1a14-4eeb-acd8-d31d66999429",
   "metadata": {},
   "outputs": [],
   "source": [
    "import h5py\n",
    "import numpy as np\n",
    "import os\n",
    "import exm\n",
    "import matplotlib.pyplot as plt\n",
    "import tifffile\n",
    "import multiprocessing as mp\n",
    "from exm.io import readXlsx, readNd2,tiles, readH5, writeH5, mkdir, tilesData,imAdjust,tiff2H5\n",
    "from exm.align import sitkTile, sitkTile2Volume\n",
    "\n",
    "\n",
    "############# To change #############\n",
    "## 1. File paths\n",
    "# input\n",
    "D0 = '/mp/nas3/WORMSeq7_Full3Rounds/WORMseq7_YoungAdult/'\n",
    "Ds = D0 + 'WORMseq7_YoungAdult_barcode3/Base3/output/'\n",
    "# output\n",
    "Do = '/home/donglai/align/db/wormseq7/'\n",
    "\n",
    "\n",
    "## 2. Stitched volume: convert tif output to h5\n",
    "#align_method = 'bigstitcher'\n",
    "align_method = 'terastitcher'\n",
    "bigstitcher_h5 = Do + 'barcode3_hr.h5'\n",
    "# if no h5 yet, need conversion\n",
    "terastitcher_hr_tif = Ds + 'RES(9854x5950x548)/000000/000000_000000/000000_000000_000040.tif'\n",
    "terastitcher_lr_tif = Ds + 'RES(1231x743x68)/000000/000000_000000/000000_000000_000040.tif'\n",
    "\n",
    "\n",
    "\n",
    "## 3. Tiles from other rounds\n",
    "#fn_name = 'barcode5'\n",
    "fn_name = 'barcode6'\n",
    "fn_tiles_folder = D0 + 'WORMseq7_YoungAdult_%s/' % fn_name\n",
    "fn_tiles_nd2 = fn_tiles_folder + 'Channel405 SD_Seq0004.nd2' \n",
    "fn_tiles_channel = '405 SD'\n",
    "fn_tiles_xlsx = fn_tiles_folder + 'YoungAdult_%s_405.xlsx' % fn_name\n",
    "\n",
    "\n",
    "## 4. Registration\n",
    "# threshold the range to change from uint16 to uint8\n",
    "# do not rescale the tiles as some background tiles can be over-scaled\n",
    "transform_type = 'rigid' # good enough, more robust\n",
    "#transform_type = 'affine'\n",
    "mip_lr = 3 # for low-res registration\n",
    "im_thres = [0, 255, False] \n",
    "\n",
    "do_debug = True # for debug\n",
    "\n",
    "\n",
    "############# No change #############\n",
    "ratio_lr = [2**mip_lr for i in range(3)]\n",
    "stitched_hr_h5 = Do + 'barcode3_hr.h5'\n",
    "stitched_lr_h5 = Do + 'barcode3_lr.h5'\n",
    "Do = Do + '/'\n",
    "mkdir(Do)\n",
    "mkdir(Do + fn_name)\n",
    "fn_out = Do + fn_name + '/'+ transform_type + '_%d-%d'\n",
    "\n",
    "# save intermediate low-res results\n",
    "mkdir(Do + 'lr/')\n",
    "sn_tiles_lr = Do + 'lr/%s_lr-raw.h5' % fn_name\n",
    "sn_transform_lr = Do + 'lr/%s_lr-raw_%s.txt' % (fn_name, transform_type)\n",
    "sn_tiles_warp_lr = Do + 'lr/%s_lr-raw_%s_warped.h5' % (fn_name, transform_type)"
   ]
  },
  {
   "cell_type": "markdown",
   "id": "b11a4a35-f836-4990-a870-17c0d66fc2b0",
   "metadata": {},
   "source": [
    "# Step 0. Data conversion"
   ]
  },
  {
   "cell_type": "code",
   "execution_count": 2,
   "id": "edf58c45-095d-466e-b558-a049fedb1550",
   "metadata": {},
   "outputs": [],
   "source": [
    "if not os.path.exists(stitched_hr_h5):\n",
    "    tiff2H5(terastitcher_hr_tif, stitched_hr_h5, chunk_size=(100,1024,1024), step=100)\n",
    "\n",
    "if align_method == 'bigstitcher':\n",
    "    stitched_hr_h5_vol = h5py.File(stitched_hr_h5, 'r')['t00000']['s00']['0']['cells']\n",
    "elif align_method == 'terastitcher':\n",
    "    stitched_hr_h5_vol = h5py.File(stitched_hr_h5, 'r')['main']"
   ]
  },
  {
   "cell_type": "markdown",
   "id": "3583caa8-fbbc-45f5-80a2-b33fff160c71",
   "metadata": {},
   "source": [
    "## Step 1. Low-res volume-to-volume registration"
   ]
  },
  {
   "cell_type": "markdown",
   "id": "854dcaf9-d1a8-4950-a2d7-271dc71a7067",
   "metadata": {},
   "source": [
    "### 1.1 Low-res stitched volume"
   ]
  },
  {
   "cell_type": "code",
   "execution_count": 3,
   "id": "aff229e3-7576-48f9-a382-eeca5688ad17",
   "metadata": {},
   "outputs": [],
   "source": [
    "if align_method == 'bigstitcher':\n",
    "    stitched_lr_h5_vol = np.array(h5py.File(bigstitcher_h5, 'r')['t00000']['s00'][str(mip_lr)]['cells'])    \n",
    "elif align_method == 'terastitcher':\n",
    "    if not os.path.exists(stitched_lr_h5):\n",
    "        stitched_lr_vol = tifffile.imread(terastitcher_lr_tif)\n",
    "        writeH5(stitched_lr_h5, stitched_lr_vol)\n",
    "    else:\n",
    "        stitched_lr_vol = readH5(stitched_lr_h5)\n",
    "    stitched_lr_h5_vol = h5py.File(stitched_lr_h5, 'r')['main']"
   ]
  },
  {
   "cell_type": "code",
   "execution_count": 4,
   "id": "a638dad4-f536-487c-ad51-3d442fdc78b9",
   "metadata": {},
   "outputs": [],
   "source": [
    "if do_debug and False:\n",
    "    # check out the image value distribution\n",
    "    stitched_lr_vol = np.array(stitched_lr_h5_vol)\n",
    "    plt.hist(stitched_lr_vol[stitched_lr_vol>0])\n",
    "    plt.yscale('log')"
   ]
  },
  {
   "cell_type": "markdown",
   "id": "033c26bb-5950-446c-925e-07ab8875c305",
   "metadata": {},
   "source": [
    "### 1.2 Low-res naive-stitch from xlsx"
   ]
  },
  {
   "cell_type": "code",
   "execution_count": 5,
   "id": "2cfdfbcf-e849-4e87-9e86-f37f9f501e87",
   "metadata": {},
   "outputs": [
    {
     "name": "stdout",
     "output_type": "stream",
     "text": [
      "exist 3 multipoint loops with length [4 4 9]\n",
      "['405 SD']\n",
      "original size:  [ 430 9819 5969] (downsampled): [  54 1228  747]\n"
     ]
    }
   ],
   "source": [
    "tiles_nd2, tiles_info = readNd2(fn_tiles_nd2)\n",
    "tiles_loc = readXlsx(fn_tiles_xlsx)\n",
    "\n",
    "\n",
    "tiles_data = tilesData(tiles_nd2, tiles_info, tiles_loc)\n",
    "tiles_data.setChannel(fn_tiles_channel)\n",
    "tiles_data.setRatio(ratio_lr)\n",
    "tiles_data.setImThres(im_thres)\n",
    "\n",
    "if not os.path.exists(sn_tiles_lr):\n",
    "    tiles_lr_vol = tiles_data.getTileRawStitch()\n",
    "    writeH5(sn_tiles_lr, tiles_lr_vol)\n",
    "else:\n",
    "    tiles_lr_vol = readH5(sn_tiles_lr)"
   ]
  },
  {
   "cell_type": "code",
   "execution_count": 6,
   "id": "6b6a30ea-2931-4e93-a42c-e5279ca11151",
   "metadata": {},
   "outputs": [
    {
     "data": {
      "image/png": "[encoded data removed]",
      "text/plain": [
       "<Figure size 432x288 with 1 Axes>"
      ]
     },
     "metadata": {
      "needs_background": "light"
     },
     "output_type": "display_data"
    }
   ],
   "source": [
    "if do_debug:\n",
    "    # display tile layout\n",
    "    tiles_data.displayTileLoc()"
   ]
  },
  {
   "cell_type": "code",
   "execution_count": 7,
   "id": "ee45ff37-7c34-4215-a0f0-dcc73c298cd0",
   "metadata": {},
   "outputs": [],
   "source": [
    "if do_debug and False:\n",
    "    # check out the image value distribution\n",
    "    plt.hist(tiles_lr_vol[tiles_lr_vol>0])\n",
    "    plt.yscale('log')"
   ]
  },
  {
   "cell_type": "markdown",
   "id": "0ec27ded-76f1-427a-b177-f87911bc20c4",
   "metadata": {},
   "source": [
    "### 1.3 Compute registration"
   ]
  },
  {
   "cell_type": "code",
   "execution_count": 8,
   "id": "959ee57d-29ea-4249-b668-897f782a3059",
   "metadata": {
    "tags": []
   },
   "outputs": [],
   "source": [
    "aligner = sitkTile()\n",
    "# zyx -> xyz order\n",
    "aligner.setResolution(tiles_data.getResolution(ratio_lr)[::-1])\n",
    "aligner.setTransformType([transform_type], num_iteration=5000)\n",
    "\n",
    "if not os.path.exists(sn_transform_lr):\n",
    "    transform_lr = aligner.computeTransformMap(stitched_lr_vol, tiles_lr_vol,\\\n",
    "                                mask_fix = (stitched_lr_vol>0).astype(np.uint8),\\\n",
    "                                mask_move = (tiles_lr_vol>0).astype(np.uint8))\n",
    "    aligner.writeTransformMap(sn_transform_lr, transform_lr)\n",
    "else:\n",
    "    transform_lr = aligner.readTransformMap(sn_transform_lr)"
   ]
  },
  {
   "cell_type": "code",
   "execution_count": 9,
   "id": "0d694bb3-1fdc-4175-86c8-530f35cfafef",
   "metadata": {},
   "outputs": [],
   "source": [
    "## visualization for napari\n",
    "if not os.path.exists(sn_tiles_warp_lr):\n",
    "    tiles_lr_warp = aligner.warpVolume(tiles_lr_vol, transform_lr).astype(np.uint8)\n",
    "    writeH5(sn_tiles_warp_lr, tiles_lr_warp)"
   ]
  },
  {
   "cell_type": "code",
   "execution_count": 10,
   "id": "019f84d7-0d3d-488f-97ce-2bd54b45699f",
   "metadata": {},
   "outputs": [
    {
     "data": {
      "text/plain": [
       "('1.300000', '1.300000', '3.200000')"
      ]
     },
     "execution_count": 10,
     "metadata": {},
     "output_type": "execute_result"
    }
   ],
   "source": [
    "transform_lr['Spacing']"
   ]
  },
  {
   "cell_type": "markdown",
   "id": "1d169149-bdb3-4796-adf0-91dc523415c6",
   "metadata": {},
   "source": [
    "## [Optional] Step 2. Low-res tile-to-volume alignment"
   ]
  },
  {
   "cell_type": "code",
   "execution_count": 11,
   "id": "212c1db4-dc39-4ca4-865e-ec48d085aaa2",
   "metadata": {},
   "outputs": [],
   "source": [
    "do_sanity_check = False\n",
    "#do_sanity_check = True\n",
    "\n",
    "if do_sanity_check:\n",
    "    ### 2.1 Compute registration\n",
    "    aligner_t2s = sitkTile2Volume(tiles_data, stitched_lr_h5_vol, aligner, ratio_lr)\n",
    "    aligner_t2s.setInitialTransform(transform_lr)\n",
    "    aligner_t2s.updateOutputSize(pad_ratio = 3)\n",
    "\n",
    "    for tile_id in range(tiles_data.tiles_num):\n",
    "        #if True:\n",
    "        if not os.path.exists(fn_out%(ratio_lr[0], tile_id) + '.h5') and not os.path.exists(fn_out%(ratio_lr[0], tile_id) + '_err.h5'):\n",
    "            print('process tile:', tile_id)\n",
    "            aligner_t2s.alignTiles(tile_id, fn_out, True)\n",
    "\n",
    "\n",
    "    ### 2.2 Render result        \n",
    "    aligner_t2s.stitchTiles(fn_out, (50,512,512))"
   ]
  },
  {
   "cell_type": "markdown",
   "id": "4044d812-45d4-4ce4-8a88-3ffae2d96301",
   "metadata": {},
   "source": [
    "## [Final result] Step 3. High-res tile-to-volume alignment"
   ]
  },
  {
   "cell_type": "code",
   "execution_count": null,
   "id": "9a5fb41b-9f8d-40a9-ac33-bb7cb9f8df16",
   "metadata": {},
   "outputs": [
    {
     "name": "stdout",
     "output_type": "stream",
     "text": [
      "original size:  [ 430 9819 5969] (downsampled): [ 431 9820 5970]\n",
      "0\n"
     ]
    }
   ],
   "source": [
    "ratio_hr = [1,1,1]\n",
    "aligner_t2s = sitkTile2Volume(tiles_data, stitched_hr_h5_vol, aligner, ratio_hr)\n",
    "aligner_t2s.setInitialTransform(transform_lr)\n",
    "aligner_t2s.updateOutputSize(pad_ratio = 3)\n",
    "\n",
    "\n",
    "# naive sequential approach\n",
    "for tile_id in range(tiles_data.tiles_num):    \n",
    "    if not os.path.exists(fn_out%(ratio_hr[0], tile_id) + '.h5') and \\\n",
    "        not os.path.exists(fn_out%(ratio_hr[0], tile_id) + '_err.h5'):\n",
    "        print(tile_id)\n",
    "        aligner_t2s.alignTiles(tile_id, fn_out)\n",
    "\"\"\"\n",
    "\n",
    "## doesn't work due to nd2 doesn't support concurrent read\n",
    "def worker(tile_id):\n",
    "    if not os.path.exists(fn_out%(ratio_hr[0], tile_id) + '.h5'):\n",
    "        print('working on tile', tile_id)\n",
    "        aligner_t2s.alignTiles(tile_id, fn_out)\n",
    "\n",
    "pool = mp.Pool(min(tiles_data.tiles_num, mp.cpu_count()))\n",
    "pool.map(worker, range(tiles_data.tiles_num))\n",
    "\"\"\""
   ]
  },
  {
   "cell_type": "code",
   "execution_count": null,
   "id": "f31924d9-e635-479d-a0b2-b41d071af19c",
   "metadata": {},
   "outputs": [],
   "source": [
    "# render mip0 results\n",
    "out = aligner_t2s.stitchTiles(fn_out, (100,1024,1024))"
   ]
  },
  {
   "cell_type": "code",
   "execution_count": null,
   "id": "795624f1-da37-4450-9239-8c72441a45dc",
   "metadata": {},
   "outputs": [],
   "source": [
    "# downsample for visual debugging\n",
    "fi = fn_out[:fn_out.rfind('/')] + '_stitched-%d.h5'%(ratio_high[0])\n",
    "vol = readH5(fi)\n",
    "writeH5(fi[:-3]+'_dsx8.h5', vol[::8,::8,::8])"
   ]
  }
 ],
 "metadata": {
  "kernelspec": {
   "display_name": "exm",
   "language": "python",
   "name": "exm"
  },
  "language_info": {
   "codemirror_mode": {
    "name": "ipython",
    "version": 3
   },
   "file_extension": ".py",
   "mimetype": "text/x-python",
   "name": "python",
   "nbconvert_exporter": "python",
   "pygments_lexer": "ipython3",
   "version": "3.7.0"
  }
 },
 "nbformat": 4,
 "nbformat_minor": 5
}
