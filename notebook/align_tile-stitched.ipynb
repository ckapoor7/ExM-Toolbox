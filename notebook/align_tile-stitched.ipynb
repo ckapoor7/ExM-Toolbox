{
 "cells": [
  {
   "cell_type": "markdown",
   "id": "1d00eb2a-c667-4e4d-8642-237c6a40f225",
   "metadata": {},
   "source": [
    "# Goal: Align raw tiles to a stitched volume"
   ]
  },
  {
   "cell_type": "markdown",
   "id": "3841c86a-677c-4d76-8870-20c7a50ebeb8",
   "metadata": {},
   "source": [
    "## Step 0. Parameter setup"
   ]
  },
  {
   "cell_type": "code",
   "execution_count": 1,
   "id": "e8a65d20-1a14-4eeb-acd8-d31d66999429",
   "metadata": {},
   "outputs": [],
   "source": [
    "import h5py\n",
    "import numpy as np\n",
    "import os\n",
    "import exm\n",
    "import matplotlib.pyplot as plt\n",
    "import tifffile\n",
    "import multiprocessing as mp\n",
    "from exm.io import readXlsx, readNd2,tiles, readH5, writeH5, mkdir, tilesData,imAdjust\n",
    "from exm.align import sitkTile, sitkTile2Volume\n",
    "\n",
    "\n",
    "############# To change #############\n",
    "## output files\n",
    "Do = '/home/donglai/align/db/wormseq7/'\n",
    "\n",
    "## input stitched volume\n",
    "D0 = '/mp/nas3/WORMSeq7_Full3Rounds/WORMseq7_YoungAdult/'\n",
    "align_method = 'terastitcher' # or bigstitcher\n",
    "Ds = D0 + 'WORMseq7_YoungAdult_barcode3/Base3/output/'\n",
    "# if bigstitcher\n",
    "# fn_stitched = Ds + 'Stitched.h5'\n",
    "# or terastitcher\n",
    "# mip0: need to be h5\n",
    "#fn_stitched_mip0 = Ds + 'RES(9854x5950x548)/000000/000000_000000/000000_000000_000040.tif'\n",
    "fn_stitched_mip0 = Do + 'barcode3_hr.h5'\n",
    "fn_stitched_mip2 = Do + 'barcode3_mip2.h5'\n",
    "fn_stitched_lr = Ds + 'RES(1231x743x68)/000000/000000_000000/000000_000000_000040.tif'\n",
    "\n",
    "## input tiles\n",
    "fn_name = 'barcode5'\n",
    "fn_tiles = D0 + 'WORMseq7_YoungAdult_%s/' % fn_name\n",
    "fn_tiles_nd2 = fn_tiles + 'Channel405 SD_Seq0004.nd2' \n",
    "fn_tiles_channel = '405 SD'\n",
    "fn_tiles_xlsx = fn_tiles + 'YoungAdult_%s_405.xlsx' % fn_name\n",
    "\n",
    "\n",
    "## low-res registration\n",
    "# threshold the range to change from uint16 to uint8\n",
    "# do not rescale the tiles as some background tiles can be over-scaled\n",
    "ratio_tiles_lr = [8,8,8]\n",
    "ratio_stitched_lr = '3'\n",
    "im_thres = [0, 255, False] \n",
    "#transform_type = 'affine'\n",
    "transform_type = 'rigid' # good enough, more robust\n",
    "\n",
    "\n",
    "############# No change #############\n",
    "do_debug = True # for debug\n",
    "Do = Do + '/'\n",
    "mkdir(Do)\n",
    "mkdir(Do + fn_name)\n",
    "fn_out = Do + fn_name + '/'+ transform_type + '_%d-%d'\n",
    "\n",
    "# save intermediate low-res results\n",
    "if do_debug:\n",
    "    mkdir(Do + 'lr/')\n",
    "    \n",
    "sn_stitched_lr = Do + 'lr/stitched_lr.h5'\n",
    "sn_tiles_lr = Do + 'lr/%s_lr.h5' % fn_name\n",
    "sn_transform_lr = Do + 'lr/%s_lr_%s.txt' % (fn_name, transform_type)\n",
    "sn_tiles_warp_lr = Do + 'lr/%s_lr_%s_warped.h5' % (fn_name, transform_type)"
   ]
  },
  {
   "cell_type": "markdown",
   "id": "3583caa8-fbbc-45f5-80a2-b33fff160c71",
   "metadata": {},
   "source": [
    "## Step 1. Low-res volume-to-volume registration"
   ]
  },
  {
   "cell_type": "markdown",
   "id": "854dcaf9-d1a8-4950-a2d7-271dc71a7067",
   "metadata": {},
   "source": [
    "### 1.1 Low-res stitched volume"
   ]
  },
  {
   "cell_type": "code",
   "execution_count": 2,
   "id": "aff229e3-7576-48f9-a382-eeca5688ad17",
   "metadata": {},
   "outputs": [],
   "source": [
    "# stithced volume is x [1,2,2] downsampled\n",
    "\n",
    "# stitched resolution: stitching downsample x output scale\n",
    "# [1,2,2] x [8,8,8]\n",
    "# [3.2,2.6,2.6]\n",
    "\n",
    "if align_method == 'bigstitcher':\n",
    "    stitched_lr_h5 = h5py.File(fn_stitched, 'r')['t00000']['s00'][ratio_stitched_lr]['cells']\n",
    "    stitched_hr_h5 = h5py.File(fn_stitched, 'r')['t00000']['s00']['0']['cells']\n",
    "    if not os.path.exists(sn_stitched_lr):\n",
    "        stitched_lr = imAdjust(np.array(stitched_lr_h5), [0,255,False])\n",
    "\n",
    "    if do_debug:    \n",
    "        writeH5(sn_stitched_lr, stitched_lr)\n",
    "    else:\n",
    "        stitched_lr = readH5(sn_stitched)\n",
    "\n",
    "elif align_method == 'terastitcher':    \n",
    "    stitched_hr_h5 = h5py.File(fn_stitched_mip0, 'r')['main']\n",
    "    if not os.path.exists(sn_stitched_lr):\n",
    "        stitched_lr = imAdjust(tifffile.imread(fn_stitched_lr), [0,255,False])\n",
    "        writeH5(sn_stitched_lr, stitched_lr)\n",
    "    else:\n",
    "        stitched_lr = readH5(sn_stitched_lr)\n",
    "    stitched_lr_h5 = h5py.File(sn_stitched_lr, 'r')['main']"
   ]
  },
  {
   "cell_type": "code",
   "execution_count": 3,
   "id": "a638dad4-f536-487c-ad51-3d442fdc78b9",
   "metadata": {},
   "outputs": [],
   "source": [
    "if do_debug and False:\n",
    "    # check out the image value distribution\n",
    "    test = tifffile.imread(fn_stitched_lr)\n",
    "    plt.hist(test[test>0])\n",
    "    plt.yscale('log')"
   ]
  },
  {
   "cell_type": "markdown",
   "id": "033c26bb-5950-446c-925e-07ab8875c305",
   "metadata": {},
   "source": [
    "### 1.2 Low-res naive-stitch from xlsx"
   ]
  },
  {
   "cell_type": "code",
   "execution_count": 4,
   "id": "2cfdfbcf-e849-4e87-9e86-f37f9f501e87",
   "metadata": {},
   "outputs": [
    {
     "name": "stdout",
     "output_type": "stream",
     "text": [
      "exist 3 multipoint loops with length [4 4 9]\n",
      "['405 SD']\n",
      "original size:  [ 482 9820 5969] (downsampled): [  61 1228  747]\n"
     ]
    }
   ],
   "source": [
    "tiles_vol, tiles_info = readNd2(fn_tiles_nd2)\n",
    "tiles_loc = readXlsx(fn_tiles_xlsx)\n",
    "\n",
    "\n",
    "tiles_data = tilesData(tiles_vol, tiles_info, tiles_loc)\n",
    "tiles_data.setChannel(fn_tiles_channel)\n",
    "tiles_data.setRatio(ratio_tiles_lr)\n",
    "tiles_data.setImThres(im_thres)\n",
    "\n",
    "if not os.path.exists(sn_tiles_lr):\n",
    "    tiles_lr = tiles_data.getTileRawStitch()\n",
    "    \n",
    "if do_debug:\n",
    "    if not os.path.exists(sn_tiles_lr):\n",
    "        writeH5(sn_tiles_lr, tiles_lr)\n",
    "    else:\n",
    "        tiles_lr = readH5(sn_tiles_lr)"
   ]
  },
  {
   "cell_type": "code",
   "execution_count": 5,
   "id": "6b6a30ea-2931-4e93-a42c-e5279ca11151",
   "metadata": {},
   "outputs": [
    {
     "data": {
      "image/png": "[encoded data removed]",
      "text/plain": [
       "<Figure size 432x288 with 1 Axes>"
      ]
     },
     "metadata": {
      "needs_background": "light"
     },
     "output_type": "display_data"
    }
   ],
   "source": [
    "if do_debug:\n",
    "    # display tile layout\n",
    "    tiles_data.displayTileLoc()"
   ]
  },
  {
   "cell_type": "code",
   "execution_count": 6,
   "id": "ee45ff37-7c34-4215-a0f0-dcc73c298cd0",
   "metadata": {},
   "outputs": [],
   "source": [
    "if do_debug and False:\n",
    "    # check out the image value distribution\n",
    "    plt.hist(tiles_lr[tiles_lr>0])\n",
    "    plt.yscale('log')"
   ]
  },
  {
   "cell_type": "markdown",
   "id": "0ec27ded-76f1-427a-b177-f87911bc20c4",
   "metadata": {},
   "source": [
    "### 1.3 Compute registration"
   ]
  },
  {
   "cell_type": "code",
   "execution_count": 7,
   "id": "959ee57d-29ea-4249-b668-897f782a3059",
   "metadata": {
    "tags": []
   },
   "outputs": [],
   "source": [
    "aligner = sitkTile()\n",
    "# zyx -> xyz order\n",
    "aligner.setResolution(tiles_data.getResolution(ratio_tiles_lr)[::-1])\n",
    "aligner.setTransformType([transform_type], num_iteration=5000)\n",
    "\n",
    "\n",
    "if not os.path.exists(sn_transform_lr):\n",
    "    transform_lr = aligner.computeTransformMap(stitched_lr, tiles_lr,\\\n",
    "                                    mask_fix = (stitched_lr>0).astype(np.uint8),\\\n",
    "                                    mask_move = (tiles_lr>0).astype(np.uint8))\n",
    "    if do_debug:\n",
    "        aligner.writeTransformMap(sn_transform_lr, transform_lr)\n",
    "else:\n",
    "    transform_lr = aligner.readTransformMap(sn_transform_lr)"
   ]
  },
  {
   "cell_type": "code",
   "execution_count": 8,
   "id": "0d694bb3-1fdc-4175-86c8-530f35cfafef",
   "metadata": {},
   "outputs": [],
   "source": [
    "## debugging: visualization for napari\n",
    "if do_debug and not os.path.exists(sn_tiles_warp_lr):\n",
    "    tiles_lr_warp = aligner.warpVolume(tiles_lr, transform_lr).astype(np.uint8)\n",
    "    writeH5(sn_tiles_warp_lr, tiles_lr_warp)"
   ]
  },
  {
   "cell_type": "markdown",
   "id": "1d169149-bdb3-4796-adf0-91dc523415c6",
   "metadata": {},
   "source": [
    "## [Optional] Step 2. Low-res tile-to-volume alignment"
   ]
  },
  {
   "cell_type": "code",
   "execution_count": 9,
   "id": "212c1db4-dc39-4ca4-865e-ec48d085aaa2",
   "metadata": {},
   "outputs": [
    {
     "name": "stdout",
     "output_type": "stream",
     "text": [
      "original size:  [ 482 9820 5969] (downsampled): [  61 1228  747]\n",
      "Load tile 0:  pos= [ 21   0 226]\n",
      "Load tile 1:  pos= [ 14 217 226]\n",
      "Load tile 2:  pos= [ 12 217   0]\n",
      "Load tile 3:  pos= [  5 459   0]\n",
      "Load tile 4:  pos= [  7 459 225]\n",
      "Load tile 6:  pos= [  1 702 466]\n",
      "Load tile 7:  pos= [  0 702 224]\n",
      "Load tile 8:  pos= [  0 945 467]\n"
     ]
    }
   ],
   "source": [
    "do_sanity_check = False\n",
    "do_sanity_check = True\n",
    "\n",
    "if do_sanity_check:\n",
    "    ### 2.1 Compute registration\n",
    "    ratio_high = [8,8,8]; tmp_h5 = stitched_lr_h5\n",
    "    aligner_t2s = sitkTile2Volume(tiles_data, tmp_h5, aligner, ratio_high)\n",
    "    aligner_t2s.setInitialTransform(transform_lr)\n",
    "    aligner_t2s.updateOutputSize(pad_ratio = 3)\n",
    "\n",
    "\n",
    "    for tile_id in range(tiles_data.tiles_num):    \n",
    "        if not os.path.exists(fn_out%(ratio_high[0], tile_id) + '.h5') and not os.path.exists(fn_out%(ratio_high[0], tile_id) + '_err.h5'):\n",
    "            print('process tile:', tile_id)\n",
    "            aligner_t2s.alignTiles(tile_id, fn_out)\n",
    "\n",
    "\n",
    "    ### 2.2 Render result        \n",
    "    aligner_t2s.stitchTiles(fn_out, (50,512,512))"
   ]
  },
  {
   "cell_type": "markdown",
   "id": "4044d812-45d4-4ce4-8a88-3ffae2d96301",
   "metadata": {},
   "source": [
    "## [Final result] Step 3. High-res tile-to-volume alignment"
   ]
  },
  {
   "cell_type": "code",
   "execution_count": 10,
   "id": "9a5fb41b-9f8d-40a9-ac33-bb7cb9f8df16",
   "metadata": {},
   "outputs": [
    {
     "name": "stdout",
     "output_type": "stream",
     "text": [
      "original size:  [ 482 9820 5969] (downsampled): [ 483 9821 5970]\n"
     ]
    },
    {
     "data": {
      "text/plain": [
       "\"\\ndef worker(tile_id):\\n    if not os.path.exists(fn_out%(ratio_high[0], tile_id) + '.h5'):\\n        print('working on tile', tile_id)\\n        aligner_t2s.alignTiles(tile_id, fn_out)\\n\\npool = mp.Pool(min(tiles_data.tiles_num, mp.cpu_count()))\\npool.map(worker, range(tiles_data.tiles_num))\\n\\n\""
      ]
     },
     "execution_count": 10,
     "metadata": {},
     "output_type": "execute_result"
    }
   ],
   "source": [
    "ratio_high = [1,1,1]; tmp_h5 = stitched_hr_h5\n",
    "\n",
    "aligner_t2s = sitkTile2Volume(tiles_data, tmp_h5, aligner, ratio_high)\n",
    "aligner_t2s.setInitialTransform(transform_lr)\n",
    "aligner_t2s.updateOutputSize(pad_ratio = 3)\n",
    "\n",
    "\n",
    "\"\"\"\"\"\"\n",
    "# naive sequential approach\n",
    "for tile_id in range(tiles_data.tiles_num):    \n",
    "    if not os.path.exists(fn_out%(ratio_high[0], tile_id) + '.h5') and not os.path.exists(fn_out%(ratio_high[0], tile_id) + '_err.h5'):\n",
    "        print(tile_id)\n",
    "        aligner_t2s.alignTiles(tile_id, fn_out)\n",
    "\n",
    "\n",
    "\n",
    "\"\"\"\n",
    "def worker(tile_id):\n",
    "    if not os.path.exists(fn_out%(ratio_high[0], tile_id) + '.h5'):\n",
    "        print('working on tile', tile_id)\n",
    "        aligner_t2s.alignTiles(tile_id, fn_out)\n",
    "\n",
    "pool = mp.Pool(min(tiles_data.tiles_num, mp.cpu_count()))\n",
    "pool.map(worker, range(tiles_data.tiles_num))\n",
    "\n",
    "\"\"\"\n"
   ]
  },
  {
   "cell_type": "code",
   "execution_count": null,
   "id": "f31924d9-e635-479d-a0b2-b41d071af19c",
   "metadata": {},
   "outputs": [
    {
     "name": "stdout",
     "output_type": "stream",
     "text": [
      "Load tile 0:  pos= [ 163    0 1805]\n",
      "Load tile 1:  pos= [ 107 1735 1801]\n",
      "Load tile 2:  pos= [  94 1732    0]\n"
     ]
    }
   ],
   "source": [
    "out = aligner_t2s.stitchTiles(fn_out, (100,1024,1024))"
   ]
  }
 ],
 "metadata": {
  "kernelspec": {
   "display_name": "exm-toolbox",
   "language": "python",
   "name": "exm-toolbox"
  },
  "language_info": {
   "codemirror_mode": {
    "name": "ipython",
    "version": 3
   },
   "file_extension": ".py",
   "mimetype": "text/x-python",
   "name": "python",
   "nbconvert_exporter": "python",
   "pygments_lexer": "ipython3",
   "version": "3.7.0"
  }
 },
 "nbformat": 4,
 "nbformat_minor": 5
}
