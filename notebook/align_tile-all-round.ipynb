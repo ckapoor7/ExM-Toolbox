{
 "cells": [
  {
   "cell_type": "markdown",
   "id": "1d00eb2a-c667-4e4d-8642-237c6a40f225",
   "metadata": {},
   "source": [
    "# Goal: Align raw tiles from all rounds"
   ]
  },
  {
   "cell_type": "markdown",
   "id": "6677595d-e6ac-486a-9195-1d65fada731f",
   "metadata": {},
   "source": [
    "## Step 1. [raw stitches] Generation"
   ]
  },
  {
   "cell_type": "code",
   "execution_count": 1,
   "id": "de55a43b-13a5-4c13-b01c-6f0bd34345df",
   "metadata": {},
   "outputs": [
    {
     "name": "stdout",
     "output_type": "stream",
     "text": [
      "exist 3 multipoint loops with length [4 4 9]\n",
      "['405 SD']\n",
      "original size:  [ 559 9819 5969] (downsampled): [  70 1228  747]\n"
     ]
    }
   ],
   "source": [
    "import h5py\n",
    "import numpy as np\n",
    "import os\n",
    "import exm\n",
    "import matplotlib.pyplot as plt\n",
    "import tifffile\n",
    "import multiprocessing as mp\n",
    "from exm.io import readXlsx, readNd2,tiles, readH5, writeH5, mkdir, tilesData,imAdjust,tiff2H5\n",
    "from exm.align import sitkTile, sitkTile2Volume\n",
    "\n",
    "D0 = '/mp/nas3/WORMSeq7_Full3Rounds/WORMseq7_YoungAdult/'\n",
    "Do = '/home/donglai/align/db/wormseq7/'\n",
    "\n",
    "round_names = ['barcode3','barcode5','barcode6']\n",
    "round_names = ['barcode3']\n",
    "\n",
    "channel_name = '405 SD'\n",
    "\n",
    "# for low-res registration\n",
    "mip_lr = 3\n",
    "transform_type = 'rigid' # good enough, more robust\n",
    "ratio_lr = [2**mip_lr for i in range(3)]\n",
    "im_thres = [0, 255, False] \n",
    "cell_thres = 120\n",
    "mkdir(Do + 'lr/')\n",
    "\n",
    "sn_tiles_lr = Do + 'lr/%s_lr-raw.h5'\n",
    "sn_transform_lr = Do + 'lr/%s-%s_lr-raw_'+'%s.txt' % transform_type\n",
    "sn_tiles_warp_lr = Do + 'lr/%s-%s_lr-raw_'+'%s_warped.h5' % transform_type\n",
    "num_round = len(round_names)\n",
    "\n",
    "\n",
    "tiles_data = [None] * num_round\n",
    "for i,round_name in enumerate(round_names):\n",
    "    round_folder = D0 + 'WORMseq7_YoungAdult_%s/' % round_name\n",
    "    round_xlsx = round_folder + 'YoungAdult_%s_405.xlsx' % round_name\n",
    "    round_nd2 = round_folder + 'Channel405 SD_Seq0004.nd2' \n",
    "    tiles_nd2, tiles_info = readNd2(round_nd2)\n",
    "    tiles_loc = readXlsx(round_xlsx)\n",
    "\n",
    "    tiles_data[i] = tilesData(tiles_nd2, tiles_info, tiles_loc)\n",
    "    tiles_data[i].setChannel(channel_name)\n",
    "    tiles_data[i].setRatio(ratio_lr)\n",
    "    tiles_data[i].setImThres(im_thres)\n",
    "\n",
    "    if not os.path.exists(sn_tiles_lr % round_name):\n",
    "        print('creating low-res raw-stitch for',round_name)\n",
    "        tiles_lr_vol = tiles_data[i].getTileRawStitch()\n",
    "        writeH5(sn_tiles_lr % round_name, tiles_lr_vol)"
   ]
  },
  {
   "cell_type": "markdown",
   "id": "599685a3-9a1c-4fd8-b39f-dcc4de6772b5",
   "metadata": {},
   "source": [
    "## Convert nd2 to h5 for parallel tile alignment"
   ]
  },
  {
   "cell_type": "code",
   "execution_count": 2,
   "id": "78615b05-3e4f-466c-b7f1-e546aa975fac",
   "metadata": {},
   "outputs": [
    {
     "data": {
      "text/plain": [
       "'\\ndef convertNd2ToH5(round_id):\\n    if not os.path.exists(fn_out%(ratio_hr[0], tile_id) + \\'.h5\\'):\\n        chunk_size = [128,1024,1024]\\n        fid = h5py.File(stitch_out, \\'w\\')\\n        tile_size = tiles_data[round_id].tiles_size\\n        for tile_id in range(tiles_data[round_id].tiles_num):\\n            print(\\'round-%d, tile-%d\\' % (round_id, tile_id))\\n            ds = fid.create_dataset(\\'tile-%d\\'%tile_id, tile_size, compression=\"gzip\", dtype=np.uint8, chunks=tuple(chunk_size))\\n            ds[:] = tiles_data[round_id].getTileVolume(tile_id)\\n        fid.close()\\n\\npool = mp.Pool(min(num_round, mp.cpu_count()))\\npool.map(convertNd2ToH5, range(num_round))\\n'"
      ]
     },
     "execution_count": 2,
     "metadata": {},
     "output_type": "execute_result"
    }
   ],
   "source": [
    "\"\"\"\n",
    "def convertNd2ToH5(round_id):\n",
    "    if not os.path.exists(fn_out%(ratio_hr[0], tile_id) + '.h5'):\n",
    "        chunk_size = [128,1024,1024]\n",
    "        fid = h5py.File(stitch_out, 'w')\n",
    "        tile_size = tiles_data[round_id].tiles_size\n",
    "        for tile_id in range(tiles_data[round_id].tiles_num):\n",
    "            print('round-%d, tile-%d' % (round_id, tile_id))\n",
    "            ds = fid.create_dataset('tile-%d'%tile_id, tile_size, compression=\"gzip\", dtype=np.uint8, chunks=tuple(chunk_size))\n",
    "            ds[:] = tiles_data[round_id].getTileVolume(tile_id)\n",
    "        fid.close()\n",
    "\n",
    "pool = mp.Pool(min(num_round, mp.cpu_count()))\n",
    "pool.map(convertNd2ToH5, range(num_round))\n",
    "\"\"\""
   ]
  },
  {
   "cell_type": "markdown",
   "id": "1b797c96-1969-4fc5-93ce-8f72c5fdd1f5",
   "metadata": {},
   "source": [
    "## Step 1. [raw stitches] Align to the reference round with biggest z"
   ]
  },
  {
   "cell_type": "code",
   "execution_count": 3,
   "id": "a3c845e0-782c-4692-9392-38ddf279a2cc",
   "metadata": {},
   "outputs": [
    {
     "name": "stdout",
     "output_type": "stream",
     "text": [
      "barcode3 (70, 1228, 747)\n",
      "Align low-res to round: barcode3\n",
      "--------\n"
     ]
    }
   ],
   "source": [
    "zmax, rid = 0, -1\n",
    "for i,round_name in enumerate(round_names):\n",
    "    sz = h5py.File(sn_tiles_lr% round_name, 'r')['main'].shape\n",
    "    if sz[0] > zmax:\n",
    "        zmax, rid = sz[0], i\n",
    "    print(round_name, sz)\n",
    "print('Align low-res to round:', round_names[rid])\n",
    "print('--------')\n",
    "\n",
    "round_name_ref = round_names[rid]\n",
    "tiles_vol_lr_ref = readH5(sn_tiles_lr % round_name_ref)\n",
    "sz_ref = tiles_data[rid].getVolumeSize(ratio_lr)\n",
    "\n",
    "\n",
    "aligner = sitkTile()\n",
    "# zyx -> xyz order\n",
    "aligner.setResolution(tiles_data[0].getResolution(ratio_lr)[::-1])\n",
    "aligner.setTransformType([transform_type], num_iteration=5000)\n",
    "\n",
    "transform_lr = [None] * len(round_names)\n",
    "\n",
    "for i, round_name in enumerate(round_names):\n",
    "    if i != rid:\n",
    "        sn = sn_transform_lr % (round_name_ref,round_name)\n",
    "        sn_w = sn_tiles_warp_lr % (round_name_ref,round_name)\n",
    "        if not os.path.exists(sn):\n",
    "            print('Aligning %s to %s' % (round_name,round_name_ref))\n",
    "            tiles_vol_lr = readH5(sn_tiles_lr % round_name)\n",
    "            transform_lr[i] = aligner.computeTransformMap(tiles_vol_lr_ref, tiles_vol_lr,\\\n",
    "                                        mask_fix = (tiles_vol_lr_ref>0).astype(np.uint8),\\\n",
    "                                        mask_move = (tiles_vol_lr>0).astype(np.uint8))\n",
    "            aligner.writeTransformMap(sn, transform_lr[i])\n",
    "        transform_lr[i] = aligner.readTransformMap(sn)\n",
    "\n",
    "        if not os.path.exists(sn_w):\n",
    "            print('Warping')            \n",
    "            tiles_vol_lr_warp = aligner.warpVolume(tiles_vol_lr, transform_lr[i]).astype(np.uint8)\n",
    "            writeH5(sn_w, tiles_vol_lr_warp)\n",
    "\n",
    "\n",
    "# identity transformation\n",
    "if num_round == 1:\n",
    "    aligner.setTransformType([transform_type], num_iteration=1)\n",
    "    transform_lr[rid] = aligner.computeTransformMap(tiles_vol_lr_ref, tiles_vol_lr_ref,\\\n",
    "                                        mask_fix = (tiles_vol_lr_ref>0).astype(np.uint8),\\\n",
    "                                        mask_move = (tiles_vol_lr_ref>0).astype(np.uint8))\n",
    "    aligner.setTransformType([transform_type], num_iteration=5000)\n",
    "else:\n",
    "    transform_lr[rid] = aligner.readTransformMap(sn)\n",
    "    center_pt = tiles_data[rid].getResolution(ratio_lr) * sz_ref\n",
    "    transform_lr[rid]['CenterOfRotationPoint'] = tuple([str(x) for x in center_pt[::-1]/2])\n",
    "    if transform_type == 'rigid':\n",
    "        transform_lr[rid][\"TransformParameters\"] = tuple([str(x) for x in np.zeros(6,int)])"
   ]
  },
  {
   "cell_type": "markdown",
   "id": "aba1243f-29b0-4d28-b439-ca805c7efe7a",
   "metadata": {},
   "source": [
    "## Step 2. [raw stitches] Estimating the template"
   ]
  },
  {
   "cell_type": "code",
   "execution_count": 22,
   "id": "f4b2619e-39ac-428f-b9cd-12686f306921",
   "metadata": {},
   "outputs": [],
   "source": [
    "# setup index volume\n",
    "ind= [None] * len(round_names)\n",
    "for i, round_name in enumerate(round_names):\n",
    "    ind[i] = tiles_data[i].getTileRawStitchIndex()\n",
    "    if i != rid:\n",
    "        sn = sn_transform_lr % (round_name_ref,round_name)\n",
    "        # nearest neighbor wparping\n",
    "        transform_lr[i]['FinalBSplineInterpolationOrder'] = ['0']\n",
    "        ind[i] = aligner.warpVolume(ind[i], transform_lr[i]).astype(np.uint8)\n",
    "        transform_lr[i]['FinalBSplineInterpolationOrder'] = ['1']            "
   ]
  },
  {
   "cell_type": "code",
   "execution_count": 25,
   "id": "19d43512-16a3-4358-859e-1e8ab6e8e57e",
   "metadata": {},
   "outputs": [
    {
     "name": "stdout",
     "output_type": "stream",
     "text": [
      "original size:  [ 559 9819 5969] (downsampled): [  70 1228  747]\n"
     ]
    }
   ],
   "source": [
    "# initial empty template\n",
    "template = np.zeros(h5py.File(sn_tiles_lr% round_name_ref, 'r')['main'].shape, np.uint8)\n",
    "\n",
    "# setup tile2volume \n",
    "def getVolume(z0,z1,y0,y1,x0,x1):\n",
    "    return template[z0:z1, y0:y1, x0:x1]\n",
    "\n",
    "aligner_t2v = [None] * 3\n",
    "for i in range(len(round_names)):\n",
    "    aligner_t2v[i] = sitkTile2Volume(tiles_data[i], getVolume, aligner, ratio_lr)\n",
    "    aligner_t2v[i].setInitialTransform(transform_lr[i])\n",
    "    aligner_t2v[i].updateOutputSize(pad_ratio = 3)\n",
    "    #aligner_t2v[i].setMaskThreshold(cell_thres)\n",
    "    "
   ]
  },
  {
   "cell_type": "code",
   "execution_count": 26,
   "id": "de9e08ed-1b02-4652-8c10-e01fc1ad6479",
   "metadata": {},
   "outputs": [],
   "source": [
    "# initialization\n",
    "# start from the middle tile in the ref\n",
    "for pad in range(5)[::-1]:\n",
    "    # ind index starts at 1\n",
    "    pad = np.maximum(np.ones(3, int), sz_ref//(2**pad))\n",
    "    sids = ind[rid][sz_ref[0]//2-pad[0] : sz_ref[0]//2+pad[0],\\\n",
    "                   sz_ref[1]//2-pad[1] : sz_ref[1]//2+pad[1],\\\n",
    "                   sz_ref[2]//2-pad[2] : sz_ref[2]//2+pad[2]]\n",
    "    if sids.max() > 0:\n",
    "        ui, uc = np.unique(sids[sids>0], return_counts=True)\n",
    "        sid = ui[np.argmax(uc)]-1\n",
    "        break\n",
    "\n",
    "fn_lr = Do + 'template/'+ transform_type + '-%d'\n",
    "sn = fn_lr%rid + '-%d-%d' % (sid, aligner_t2v[rid].ratio_output[0])\n",
    "if not os.path.exists(sn + '_transform.txt'):\n",
    "    aligner.writeTransformMap(sn + '_transform.txt', transform_lr[rid])\n",
    "if not os.path.exists(sn + '_coord.txt'):\n",
    "    top_left = tiles_data[rid].getTilePixPosition(sid).astype(int)\n",
    "    np.savetxt(sn + '_coord.txt', top_left, '%d')\n",
    "else:\n",
    "    top_left = np.loadtxt(sn + '_coord.txt').astype(int)\n",
    "    \n",
    "if not os.path.exists(sn + '.h5'):\n",
    "    tiles_vol = tiles_data[rid].getTileVolume(tiles_data[rid].tiles_loc[sid, -1], ratio_lr, im_thres)\n",
    "    writeH5(sn + '.h5', tiles_vol)\n",
    "else:\n",
    "    tiles_vol = readH5(sn + '.h5')\n",
    "\n",
    "\n",
    "template[top_left[0]:top_left[0]+tiles_vol.shape[0],\\\n",
    "        top_left[1]:top_left[1]+tiles_vol.shape[1],\\\n",
    "        top_left[2]:top_left[2]+tiles_vol.shape[2]] = tiles_vol\n",
    "\n",
    "num_tiles = np.array([tiles_data[x].tiles_num for x in range(len(round_names))])\n",
    "ind_done = np.ones([len(round_names), num_tiles.max()])\n",
    "\n",
    "for i in range(len(round_names)):\n",
    "    ind_done[:num_tiles[i]] = 0    \n",
    "ind_done[rid,sid] = 1\n",
    "ind[rid][ind[rid] == sid+1] = 0"
   ]
  },
  {
   "cell_type": "code",
   "execution_count": 28,
   "id": "4f212405-9f71-4a36-b9b0-2948cda7fc7e",
   "metadata": {},
   "outputs": [
    {
     "data": {
      "text/plain": [
       "(0, 4)"
      ]
     },
     "execution_count": 28,
     "metadata": {},
     "output_type": "execute_result"
    }
   ],
   "source": [
    "rid,sid"
   ]
  },
  {
   "cell_type": "code",
   "execution_count": 29,
   "id": "044f273a-c79b-40fc-a12a-c52ecf85d2ca",
   "metadata": {},
   "outputs": [
    {
     "name": "stdout",
     "output_type": "stream",
     "text": [
      "stitch round0-tile7\n",
      "stitch round0-tile5\n",
      "stitch round0-tile6\n",
      "stitch round-1-tile-1\n"
     ]
    },
    {
     "ename": "AttributeError",
     "evalue": "'NoneType' object has no attribute 'ratio_output'",
     "output_type": "error",
     "traceback": [
      "\u001b[0;31m---------------------------------------------------------------------------\u001b[0m",
      "\u001b[0;31mAttributeError\u001b[0m                            Traceback (most recent call last)",
      "\u001b[0;32m/tmp/ipykernel_226226/4255803189.py\u001b[0m in \u001b[0;36m<module>\u001b[0;34m\u001b[0m\n\u001b[1;32m     16\u001b[0m     \u001b[0mprint\u001b[0m\u001b[0;34m(\u001b[0m\u001b[0;34m'stitch round%d-tile%d'\u001b[0m\u001b[0;34m%\u001b[0m\u001b[0;34m(\u001b[0m\u001b[0molap_round\u001b[0m\u001b[0;34m,\u001b[0m \u001b[0molap_tile\u001b[0m\u001b[0;34m)\u001b[0m\u001b[0;34m)\u001b[0m\u001b[0;34m\u001b[0m\u001b[0m\n\u001b[1;32m     17\u001b[0m     \u001b[0;31m# align it\u001b[0m\u001b[0;34m\u001b[0m\u001b[0;34m\u001b[0m\u001b[0m\n\u001b[0;32m---> 18\u001b[0;31m     \u001b[0msn\u001b[0m \u001b[0;34m=\u001b[0m \u001b[0mfn_lr\u001b[0m\u001b[0;34m%\u001b[0m\u001b[0molap_round\u001b[0m \u001b[0;34m+\u001b[0m \u001b[0;34m'-%d-%d'\u001b[0m \u001b[0;34m%\u001b[0m \u001b[0;34m(\u001b[0m\u001b[0molap_tile\u001b[0m\u001b[0;34m,\u001b[0m \u001b[0maligner_t2v\u001b[0m\u001b[0;34m[\u001b[0m\u001b[0molap_round\u001b[0m\u001b[0;34m]\u001b[0m\u001b[0;34m.\u001b[0m\u001b[0mratio_output\u001b[0m\u001b[0;34m[\u001b[0m\u001b[0;36m0\u001b[0m\u001b[0;34m]\u001b[0m\u001b[0;34m)\u001b[0m\u001b[0;34m\u001b[0m\u001b[0m\n\u001b[0m\u001b[1;32m     19\u001b[0m     \u001b[0;32mif\u001b[0m \u001b[0;32mnot\u001b[0m \u001b[0mos\u001b[0m\u001b[0;34m.\u001b[0m\u001b[0mpath\u001b[0m\u001b[0;34m.\u001b[0m\u001b[0mexists\u001b[0m\u001b[0;34m(\u001b[0m\u001b[0msn\u001b[0m \u001b[0;34m+\u001b[0m \u001b[0;34m'.h5'\u001b[0m\u001b[0;34m)\u001b[0m\u001b[0;34m:\u001b[0m\u001b[0;34m\u001b[0m\u001b[0m\n\u001b[1;32m     20\u001b[0m         \u001b[0maligner_t2v\u001b[0m\u001b[0;34m[\u001b[0m\u001b[0molap_round\u001b[0m\u001b[0;34m]\u001b[0m\u001b[0;34m.\u001b[0m\u001b[0malignTiles\u001b[0m\u001b[0;34m(\u001b[0m\u001b[0molap_tile\u001b[0m\u001b[0;34m,\u001b[0m \u001b[0mfn_lr\u001b[0m\u001b[0;34m%\u001b[0m\u001b[0molap_round\u001b[0m\u001b[0;34m,\u001b[0m \u001b[0;32mTrue\u001b[0m\u001b[0;34m)\u001b[0m\u001b[0;34m\u001b[0m\u001b[0m\n",
      "\u001b[0;31mAttributeError\u001b[0m: 'NoneType' object has no attribute 'ratio_output'"
     ]
    }
   ],
   "source": [
    "# for loop\n",
    "mkdir(Do + 'template/')\n",
    "\n",
    "while ind_done.min() == 0:\n",
    "    # find the tile with largest overlap\n",
    "    olap_round, olap_tile, olap_voxel = -1, -1, 0\n",
    "    for i in range(len(round_names)):\n",
    "        # foreground cell region overlap\n",
    "        tmp = ind[i][template>cell_thres]\n",
    "        if tmp.max()>0:\n",
    "            ui, uc = np.unique(tmp[tmp>0], return_counts=True)\n",
    "            if uc.max() > olap_voxel:\n",
    "                olap_round, olap_tile = i, ui[np.argmax(uc)]-1\n",
    "                olap_voxel = uc.max()\n",
    "                \n",
    "    print('stitch round%d-tile%d'%(olap_round, olap_tile))\n",
    "    # align it    \n",
    "    sn = fn_lr%olap_round + '-%d-%d' % (olap_tile, aligner_t2v[olap_round].ratio_output[0])\n",
    "    if not os.path.exists(sn + '.h5'):\n",
    "        aligner_t2v[olap_round].alignTiles(olap_tile, fn_lr%olap_round, True)\n",
    "    \n",
    "    ind_done[olap_round, olap_tile] = 1\n",
    "    ind[olap_round][ind[olap_round] == olap_tile+1] = 0\n",
    "\n",
    "    # update template\n",
    "    if os.path.exists(sn + '.h5'):\n",
    "        vol_top_left = np.loadtxt(sn + '_coord.txt').astype(int)\n",
    "        tile_output = readH5(sn + '.h5')\n",
    "        vol_bottom_right = vol_top_left+tile_output.shape\n",
    "        vol = template[vol_top_left[0] : vol_bottom_right[0],\n",
    "                        vol_top_left[1] : vol_bottom_right[1],\\\n",
    "                        vol_top_left[2] : vol_bottom_right[2]]\n",
    "        template[vol_top_left[0] : vol_bottom_right[0],\n",
    "                vol_top_left[1] : vol_bottom_right[1],\\\n",
    "                vol_top_left[2] : vol_bottom_right[2]] = np.maximum(vol, tile_output)"
   ]
  },
  {
   "cell_type": "code",
   "execution_count": 35,
   "id": "3c4cadbe-5bb0-4632-a702-0128dd0ee1ee",
   "metadata": {},
   "outputs": [
    {
     "data": {
      "text/plain": [
       "[('true',),\n",
       " ('true',),\n",
       " ('false',),\n",
       " ('0.0',),\n",
       " ('1',),\n",
       " ('FixedSmoothingImagePyramid',),\n",
       " ('RandomCoordinate',),\n",
       " ('LinearInterpolator',),\n",
       " ('5000',),\n",
       " ('100',),\n",
       " ('AdvancedMattesMutualInformation',),\n",
       " ('MovingSmoothingImagePyramid',),\n",
       " ('true',),\n",
       " ('1',),\n",
       " ('5000',),\n",
       " ('2048',),\n",
       " ('AdaptiveStochasticGradientDescent',),\n",
       " ('MultiResolutionRegistration',),\n",
       " ('FinalBSplineInterpolator',),\n",
       " ('DefaultResampler',),\n",
       " ('nii',),\n",
       " ('EulerTransform',),\n",
       " ('false',),\n",
       " ('true',)]"
      ]
     },
     "execution_count": 35,
     "metadata": {},
     "output_type": "execute_result"
    }
   ],
   "source": [
    "aligner_t2v[0].aligner.parameter_map.values()"
   ]
  },
  {
   "cell_type": "code",
   "execution_count": 30,
   "id": "c9d24f14-9e54-4182-b560-faeffab4b590",
   "metadata": {},
   "outputs": [
    {
     "name": "stdout",
     "output_type": "stream",
     "text": [
      "Load tile 1:  pos= [  0 243 243]\n",
      "Load tile 4:  pos= [  0 486 244]\n",
      "Load tile 5:  pos= [  1 486 487]\n",
      "Load tile 6:  pos= [  1 727 489]\n",
      "Load tile 7:  pos= [  1 729 246]\n"
     ]
    }
   ],
   "source": [
    "for i in range(num_round):\n",
    "    aligner_t2v[i].stitchTiles(sz_ref, fn_lr%i, 'db%d.h5'%i, [64,512,512])"
   ]
  },
  {
   "cell_type": "code",
   "execution_count": null,
   "id": "d763c880-3fe5-472a-b6a3-9c7b07462b1d",
   "metadata": {},
   "outputs": [],
   "source": [
    "writeH5('template.h5', template)"
   ]
  },
  {
   "cell_type": "code",
   "execution_count": null,
   "id": "17fe151b-1210-48d5-81ff-7224cb96d45d",
   "metadata": {},
   "outputs": [],
   "source": [
    "ind_done"
   ]
  },
  {
   "cell_type": "code",
   "execution_count": null,
   "id": "cf68cde2-fcb1-4b21-adc0-428381caf33e",
   "metadata": {},
   "outputs": [],
   "source": [
    "olap_round, olap_tile, olap_voxel = -1, -1, 0\n",
    "for i in range(len(round_names)):\n",
    "    # foreground cell region overlap\n",
    "    tmp = ind[i][template>150]\n",
    "    if tmp.max()>0:\n",
    "        ui, uc = np.unique(tmp[tmp>0], return_counts=True)\n",
    "        if uc.max() > olap_voxel:\n",
    "            olap_round, olap_tile = i, ui[np.argmax(uc)]-1\n",
    "            olap_voxel = uc.max()\n",
    "\n"
   ]
  },
  {
   "cell_type": "code",
   "execution_count": null,
   "id": "410748c1-e913-4c9f-bb22-46402af84619",
   "metadata": {},
   "outputs": [],
   "source": [
    "olap_round, olap_tile, olap_voxel"
   ]
  },
  {
   "cell_type": "code",
   "execution_count": 15,
   "id": "785faac6-9203-49fc-9b7e-d23a0c1d0520",
   "metadata": {},
   "outputs": [
    {
     "data": {
      "text/plain": [
       "<matplotlib.image.AxesImage at 0x7f7dbfd01d30>"
      ]
     },
     "execution_count": 15,
     "metadata": {},
     "output_type": "execute_result"
    },
    {
     "data": {
      "image/png": "[encoded data removed]",
      "text/plain": [
       "<Figure size 432x288 with 1 Axes>"
      ]
     },
     "metadata": {
      "needs_background": "light"
     },
     "output_type": "display_data"
    }
   ],
   "source": [
    "plt.imshow(template[30])"
   ]
  },
  {
   "cell_type": "code",
   "execution_count": null,
   "id": "961aac5f-bbd9-4c4b-ae83-9daa21f5214a",
   "metadata": {},
   "outputs": [],
   "source": [
    "ind_done[olap_round, olap_tile] = 1\n",
    "ind[olap_round][ind[olap_round] == olap_tile+1] = 0\n",
    "\n",
    "# update template\n",
    "sn = fn_lr % (olap_tile,aligner_t2v[olap_round].ratio_output[0])\n",
    "if os.path.exists(sn + '.h5'):\n",
    "    vol_top_left = np.loadtxt(sn + '_coord.txt').astype(int)\n",
    "    tile_output = readH5(sn + '.h5')\n",
    "    vol_bottom_right = vol_top_left+tile_output.shape\n",
    "    vol = template[vol_top_left[0] : vol_bottom_right[0],\n",
    "                    vol_top_left[1] : vol_bottom_right[1],\\\n",
    "                    vol_top_left[2] : vol_bottom_right[2]]\n",
    "    template[vol_top_left[0] : vol_bottom_right[0],\n",
    "            vol_top_left[1] : vol_bottom_right[1],\\\n",
    "            vol_top_left[2] : vol_bottom_right[2]] = np.maximum(vol, tile_output)"
   ]
  },
  {
   "cell_type": "code",
   "execution_count": null,
   "id": "2599c6af-b790-488f-a49d-117ca3fc61bb",
   "metadata": {},
   "outputs": [],
   "source": []
  },
  {
   "cell_type": "code",
   "execution_count": null,
   "id": "bd0e82c6-b10a-455e-b7cc-4282d57191bb",
   "metadata": {},
   "outputs": [],
   "source": [
    "olap_round, olap_tile = 2, 4\n",
    "fn_lr = Do + 'template/'+ transform_type + str(olap_round)+'-%d-%d'\n",
    "aligner_t2v[olap_round].alignTiles(olap_tile, fn_lr, True)"
   ]
  },
  {
   "cell_type": "code",
   "execution_count": null,
   "id": "26f3110a-74b5-4eed-9db3-ce163dd453e9",
   "metadata": {},
   "outputs": [],
   "source": [
    "olap_round, olap_tile "
   ]
  },
  {
   "cell_type": "code",
   "execution_count": null,
   "id": "a7059463-fb3c-46bd-a33c-51b75536e75c",
   "metadata": {},
   "outputs": [],
   "source": [
    "for i in range(3):\n",
    "    plt.subplot(1,3,i+1)\n",
    "    tiles_data[i].displayTileLoc()"
   ]
  },
  {
   "cell_type": "code",
   "execution_count": null,
   "id": "3770b078-2171-480b-9367-36059b08154f",
   "metadata": {},
   "outputs": [],
   "source": [
    "aligner.transformix.PrintParameterMap()\n"
   ]
  },
  {
   "cell_type": "markdown",
   "id": "3841c86a-677c-4d76-8870-20c7a50ebeb8",
   "metadata": {},
   "source": [
    "## Step 0. Parameter setup"
   ]
  },
  {
   "cell_type": "code",
   "execution_count": null,
   "id": "e8a65d20-1a14-4eeb-acd8-d31d66999429",
   "metadata": {},
   "outputs": [],
   "source": [
    "import h5py\n",
    "import numpy as np\n",
    "import os\n",
    "import exm\n",
    "import matplotlib.pyplot as plt\n",
    "import tifffile\n",
    "import multiprocessing as mp\n",
    "from exm.io import readXlsx, readNd2,tiles, readH5, writeH5, mkdir, tilesData,imAdjust,tiff2H5\n",
    "from exm.align import sitkTile, sitkTile2Volume\n",
    "\n",
    "\n",
    "############# To change #############\n",
    "## 1. File paths\n",
    "# input\n",
    "D0 = '/mp/nas3/WORMSeq7_Full3Rounds/WORMseq7_YoungAdult/'\n",
    "Ds = D0 + 'WORMseq7_YoungAdult_barcode3/Base3/output/'\n",
    "# output\n",
    "Do = '/home/donglai/align/db/wormseq7/'\n",
    "\n",
    "\n",
    "## 2. Stitched volume: convert tif output to h5\n",
    "#align_method = 'bigstitcher'\n",
    "align_method = 'terastitcher'\n",
    "bigstitcher_h5 = Do + 'barcode3_hr.h5'\n",
    "# if no h5 yet, need conversion\n",
    "terastitcher_hr_tif = Ds + 'RES(9854x5950x548)/000000/000000_000000/000000_000000_000040.tif'\n",
    "terastitcher_lr_tif = Ds + 'RES(1231x743x68)/000000/000000_000000/000000_000000_000040.tif'\n",
    "\n",
    "\n",
    "\n",
    "## 3. Tiles from other rounds\n",
    "#fn_name = 'barcode5'\n",
    "fn_name = 'barcode6'\n",
    "fn_tiles_folder = D0 + 'WORMseq7_YoungAdult_%s/' % fn_name\n",
    "fn_tiles_nd2 = fn_tiles_folder + 'Channel405 SD_Seq0004.nd2' \n",
    "fn_tiles_channel = '405 SD'\n",
    "fn_tiles_xlsx = fn_tiles_folder + 'YoungAdult_%s_405.xlsx' % fn_name\n",
    "\n",
    "\n",
    "## 4. Registration\n",
    "# threshold the range to change from uint16 to uint8\n",
    "# do not rescale the tiles as some background tiles can be over-scaled\n",
    "transform_type = 'rigid' # good enough, more robust\n",
    "#transform_type = 'affine'\n",
    "mip_lr = 3 # for low-res registration\n",
    "im_thres = [0, 255, False] \n",
    "\n",
    "do_debug = True # for debug\n",
    "\n",
    "\n",
    "############# No change #############\n",
    "ratio_lr = [2**mip_lr for i in range(3)]\n",
    "stitched_hr_h5 = Do + 'barcode3_hr.h5'\n",
    "stitched_lr_h5 = Do + 'barcode3_lr.h5'\n",
    "Do = Do + '/'\n",
    "mkdir(Do)\n",
    "mkdir(Do + fn_name)\n",
    "fn_out = Do + fn_name + '/'+ transform_type + '_%d-%d'\n",
    "\n",
    "# save intermediate low-res results\n",
    "mkdir(Do + 'lr/')\n",
    "sn_tiles_lr = Do + 'lr/%s_lr-raw.h5' % fn_name\n",
    "sn_transform_lr = Do + 'lr/%s_lr-raw_%s.txt' % (fn_name, transform_type)\n",
    "sn_tiles_warp_lr = Do + 'lr/%s_lr-raw_%s_warped.h5' % (fn_name, transform_type)"
   ]
  },
  {
   "cell_type": "markdown",
   "id": "b11a4a35-f836-4990-a870-17c0d66fc2b0",
   "metadata": {},
   "source": [
    "# Step 0. Data conversion"
   ]
  },
  {
   "cell_type": "code",
   "execution_count": null,
   "id": "edf58c45-095d-466e-b558-a049fedb1550",
   "metadata": {},
   "outputs": [],
   "source": [
    "if not os.path.exists(stitched_hr_h5):\n",
    "    tiff2H5(terastitcher_hr_tif, stitched_hr_h5, chunk_size=(100,1024,1024), step=100)\n",
    "\n",
    "if align_method == 'bigstitcher':\n",
    "    stitched_hr_h5_vol = h5py.File(stitched_hr_h5, 'r')['t00000']['s00']['0']['cells']\n",
    "elif align_method == 'terastitcher':\n",
    "    stitched_hr_h5_vol = h5py.File(stitched_hr_h5, 'r')['main']"
   ]
  },
  {
   "cell_type": "markdown",
   "id": "3583caa8-fbbc-45f5-80a2-b33fff160c71",
   "metadata": {},
   "source": [
    "## Step 1. Low-res volume-to-volume registration"
   ]
  },
  {
   "cell_type": "markdown",
   "id": "854dcaf9-d1a8-4950-a2d7-271dc71a7067",
   "metadata": {},
   "source": [
    "### 1.1 Low-res stitched volume"
   ]
  },
  {
   "cell_type": "code",
   "execution_count": null,
   "id": "aff229e3-7576-48f9-a382-eeca5688ad17",
   "metadata": {},
   "outputs": [],
   "source": [
    "if align_method == 'bigstitcher':\n",
    "    stitched_lr_h5_vol = np.array(h5py.File(bigstitcher_h5, 'r')['t00000']['s00'][str(mip_lr)]['cells'])    \n",
    "elif align_method == 'terastitcher':\n",
    "    if not os.path.exists(stitched_lr_h5):\n",
    "        stitched_lr_vol = tifffile.imread(terastitcher_lr_tif)\n",
    "        writeH5(stitched_lr_h5, stitched_lr_vol)\n",
    "    else:\n",
    "        stitched_lr_vol = readH5(stitched_lr_h5)\n",
    "    stitched_lr_h5_vol = h5py.File(stitched_lr_h5, 'r')['main']"
   ]
  },
  {
   "cell_type": "code",
   "execution_count": null,
   "id": "a638dad4-f536-487c-ad51-3d442fdc78b9",
   "metadata": {},
   "outputs": [],
   "source": [
    "if do_debug and False:\n",
    "    # check out the image value distribution\n",
    "    stitched_lr_vol = np.array(stitched_lr_h5_vol)\n",
    "    plt.hist(stitched_lr_vol[stitched_lr_vol>0])\n",
    "    plt.yscale('log')"
   ]
  },
  {
   "cell_type": "markdown",
   "id": "033c26bb-5950-446c-925e-07ab8875c305",
   "metadata": {},
   "source": [
    "### 1.2 Low-res naive-stitch from xlsx"
   ]
  },
  {
   "cell_type": "code",
   "execution_count": null,
   "id": "2cfdfbcf-e849-4e87-9e86-f37f9f501e87",
   "metadata": {},
   "outputs": [],
   "source": [
    "tiles_nd2, tiles_info = readNd2(fn_tiles_nd2)\n",
    "tiles_loc = readXlsx(fn_tiles_xlsx)\n",
    "\n",
    "\n",
    "tiles_data = tilesData(tiles_nd2, tiles_info, tiles_loc)\n",
    "tiles_data.setChannel(fn_tiles_channel)\n",
    "tiles_data.setRatio(ratio_lr)\n",
    "tiles_data.setImThres(im_thres)\n",
    "\n",
    "if not os.path.exists(sn_tiles_lr):\n",
    "    tiles_lr_vol = tiles_data.getTileRawStitch()\n",
    "    writeH5(sn_tiles_lr, tiles_lr_vol)\n",
    "else:\n",
    "    tiles_lr_vol = readH5(sn_tiles_lr)"
   ]
  },
  {
   "cell_type": "code",
   "execution_count": null,
   "id": "6b6a30ea-2931-4e93-a42c-e5279ca11151",
   "metadata": {},
   "outputs": [],
   "source": [
    "if do_debug:\n",
    "    # display tile layout\n",
    "    tiles_data.displayTileLoc()"
   ]
  },
  {
   "cell_type": "code",
   "execution_count": null,
   "id": "ee45ff37-7c34-4215-a0f0-dcc73c298cd0",
   "metadata": {},
   "outputs": [],
   "source": [
    "if do_debug and False:\n",
    "    # check out the image value distribution\n",
    "    plt.hist(tiles_lr_vol[tiles_lr_vol>0])\n",
    "    plt.yscale('log')"
   ]
  },
  {
   "cell_type": "markdown",
   "id": "0ec27ded-76f1-427a-b177-f87911bc20c4",
   "metadata": {},
   "source": [
    "### 1.3 Compute registration"
   ]
  },
  {
   "cell_type": "code",
   "execution_count": null,
   "id": "959ee57d-29ea-4249-b668-897f782a3059",
   "metadata": {
    "tags": []
   },
   "outputs": [],
   "source": [
    "aligner = sitkTile()\n",
    "# zyx -> xyz order\n",
    "aligner.setResolution(tiles_data.getResolution(ratio_lr)[::-1])\n",
    "aligner.setTransformType([transform_type], num_iteration=5000)\n",
    "\n",
    "if not os.path.exists(sn_transform_lr):\n",
    "    transform_lr = aligner.computeTransformMap(stitched_lr_vol, tiles_lr_vol,\\\n",
    "                                mask_fix = (stitched_lr_vol>0).astype(np.uint8),\\\n",
    "                                mask_move = (tiles_lr_vol>0).astype(np.uint8))\n",
    "    aligner.writeTransformMap(sn_transform_lr, transform_lr)\n",
    "else:\n",
    "    transform_lr = aligner.readTransformMap(sn_transform_lr)"
   ]
  },
  {
   "cell_type": "code",
   "execution_count": null,
   "id": "0d694bb3-1fdc-4175-86c8-530f35cfafef",
   "metadata": {},
   "outputs": [],
   "source": [
    "## visualization for napari\n",
    "if not os.path.exists(sn_tiles_warp_lr):\n",
    "    tiles_lr_warp = aligner.warpVolume(tiles_lr_vol, transform_lr).astype(np.uint8)\n",
    "    writeH5(sn_tiles_warp_lr, tiles_lr_warp)"
   ]
  },
  {
   "cell_type": "code",
   "execution_count": null,
   "id": "019f84d7-0d3d-488f-97ce-2bd54b45699f",
   "metadata": {},
   "outputs": [],
   "source": [
    "transform_lr['Spacing']"
   ]
  },
  {
   "cell_type": "markdown",
   "id": "1d169149-bdb3-4796-adf0-91dc523415c6",
   "metadata": {},
   "source": [
    "## [Optional] Step 2. Low-res tile-to-volume alignment"
   ]
  },
  {
   "cell_type": "code",
   "execution_count": null,
   "id": "212c1db4-dc39-4ca4-865e-ec48d085aaa2",
   "metadata": {},
   "outputs": [],
   "source": [
    "do_sanity_check = False\n",
    "#do_sanity_check = True\n",
    "\n",
    "if do_sanity_check:\n",
    "    ### 2.1 Compute registration\n",
    "    aligner_t2s = sitkTile2Volume(tiles_data, stitched_lr_h5_vol, aligner, ratio_lr)\n",
    "    aligner_t2s.setInitialTransform(transform_lr)\n",
    "    aligner_t2s.updateOutputSize(pad_ratio = 3)\n",
    "\n",
    "    for tile_id in range(tiles_data.tiles_num):\n",
    "        #if True:\n",
    "        if not os.path.exists(fn_out%(ratio_lr[0], tile_id) + '.h5') and not os.path.exists(fn_out%(ratio_lr[0], tile_id) + '_err.h5'):\n",
    "            print('process tile:', tile_id)\n",
    "            aligner_t2s.alignTiles(tile_id, fn_out, True)\n",
    "\n",
    "\n",
    "    ### 2.2 Render result        \n",
    "    aligner_t2s.stitchTiles(fn_out, (50,512,512))"
   ]
  },
  {
   "cell_type": "markdown",
   "id": "4044d812-45d4-4ce4-8a88-3ffae2d96301",
   "metadata": {},
   "source": [
    "## [Final result] Step 3. High-res tile-to-volume alignment"
   ]
  },
  {
   "cell_type": "code",
   "execution_count": null,
   "id": "9a5fb41b-9f8d-40a9-ac33-bb7cb9f8df16",
   "metadata": {},
   "outputs": [],
   "source": [
    "ratio_hr = [1,1,1]\n",
    "aligner_t2s = sitkTile2Volume(tiles_data, stitched_hr_h5_vol, aligner, ratio_hr)\n",
    "aligner_t2s.setInitialTransform(transform_lr)\n",
    "aligner_t2s.updateOutputSize(pad_ratio = 3)\n",
    "\n",
    "\n",
    "# naive sequential approach\n",
    "for tile_id in range(tiles_data.tiles_num):    \n",
    "    if not os.path.exists(fn_out%(ratio_hr[0], tile_id) + '.h5') and \\\n",
    "        not os.path.exists(fn_out%(ratio_hr[0], tile_id) + '_err.h5'):\n",
    "        print(tile_id)\n",
    "        aligner_t2s.alignTiles(tile_id, fn_out)\n",
    "\"\"\"\n",
    "\n",
    "## doesn't work due to nd2 doesn't support concurrent read\n",
    "def worker(tile_id):\n",
    "    if not os.path.exists(fn_out%(ratio_hr[0], tile_id) + '.h5'):\n",
    "        print('working on tile', tile_id)\n",
    "        aligner_t2s.alignTiles(tile_id, fn_out)\n",
    "\n",
    "pool = mp.Pool(min(tiles_data.tiles_num, mp.cpu_count()))\n",
    "pool.map(worker, range(tiles_data.tiles_num))\n",
    "\"\"\""
   ]
  },
  {
   "cell_type": "code",
   "execution_count": null,
   "id": "f31924d9-e635-479d-a0b2-b41d071af19c",
   "metadata": {},
   "outputs": [],
   "source": [
    "# render mip0 results\n",
    "out = aligner_t2s.stitchTiles(fn_out, (100,1024,1024))"
   ]
  },
  {
   "cell_type": "code",
   "execution_count": null,
   "id": "795624f1-da37-4450-9239-8c72441a45dc",
   "metadata": {},
   "outputs": [],
   "source": [
    "# downsample for visual debugging\n",
    "fi = fn_out[:fn_out.rfind('/')] + '_stitched-%d.h5'%(ratio_high[0])\n",
    "vol = readH5(fi)\n",
    "writeH5(fi[:-3]+'_dsx8.h5', vol[::8,::8,::8])"
   ]
  }
 ],
 "metadata": {
  "kernelspec": {
   "display_name": "exm",
   "language": "python",
   "name": "exm"
  },
  "language_info": {
   "codemirror_mode": {
    "name": "ipython",
    "version": 3
   },
   "file_extension": ".py",
   "mimetype": "text/x-python",
   "name": "python",
   "nbconvert_exporter": "python",
   "pygments_lexer": "ipython3",
   "version": "3.7.0"
  }
 },
 "nbformat": 4,
 "nbformat_minor": 5
}
