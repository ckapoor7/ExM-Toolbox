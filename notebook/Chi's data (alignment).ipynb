{
 "cells": [
  {
   "cell_type": "code",
   "execution_count": 1,
   "id": "a3a7ca55",
   "metadata": {},
   "outputs": [],
   "source": [
    "import numpy as np\n",
    "import napari\n",
    "import SimpleITK as sitk\n",
    "import nd2"
   ]
  },
  {
   "cell_type": "code",
   "execution_count": 8,
   "id": "8f1c269f",
   "metadata": {},
   "outputs": [
    {
     "name": "stdout",
     "output_type": "stream",
     "text": [
      "Python 3.10.2\r\n"
     ]
    }
   ],
   "source": [
    "!python -V\n",
    "\n",
    "# 3.7 and below works with ND2Reader, need to set to 3.7 then re-make the Elastix"
   ]
  },
  {
   "cell_type": "code",
   "execution_count": 7,
   "id": "f292b5af",
   "metadata": {},
   "outputs": [
    {
     "ename": "ImportError",
     "evalue": "cannot import name 'Iterable' from 'collections' (/home/ebesier/miniconda3/envs/exm-toolbox/lib/python3.10/collections/__init__.py)",
     "output_type": "error",
     "traceback": [
      "\u001b[0;31m---------------------------------------------------------------------------\u001b[0m",
      "\u001b[0;31mImportError\u001b[0m                               Traceback (most recent call last)",
      "Input \u001b[0;32mIn [7]\u001b[0m, in \u001b[0;36m<cell line: 4>\u001b[0;34m()\u001b[0m\n\u001b[1;32m      1\u001b[0m \u001b[38;5;66;03m# ND2Reader not compatible with Python 3\u001b[39;00m\n\u001b[1;32m      2\u001b[0m \u001b[38;5;66;03m# Go over goal of nd2ToVol function\u001b[39;00m\n\u001b[0;32m----> 4\u001b[0m \u001b[38;5;28;01mfrom\u001b[39;00m \u001b[38;5;21;01mnd2reader\u001b[39;00m \u001b[38;5;28;01mimport\u001b[39;00m ND2Reader\n",
      "File \u001b[0;32m~/miniconda3/envs/exm-toolbox/lib/python3.10/site-packages/nd2reader/__init__.py:2\u001b[0m, in \u001b[0;36m<module>\u001b[0;34m\u001b[0m\n\u001b[1;32m      1\u001b[0m \u001b[38;5;28;01mfrom\u001b[39;00m \u001b[38;5;21;01mos\u001b[39;00m \u001b[38;5;28;01mimport\u001b[39;00m path\n\u001b[0;32m----> 2\u001b[0m \u001b[38;5;28;01mfrom\u001b[39;00m \u001b[38;5;21;01mnd2reader\u001b[39;00m\u001b[38;5;21;01m.\u001b[39;00m\u001b[38;5;21;01mreader\u001b[39;00m \u001b[38;5;28;01mimport\u001b[39;00m ND2Reader\n\u001b[1;32m      3\u001b[0m \u001b[38;5;28;01mfrom\u001b[39;00m \u001b[38;5;21;01mnd2reader\u001b[39;00m\u001b[38;5;21;01m.\u001b[39;00m\u001b[38;5;21;01mlegacy\u001b[39;00m \u001b[38;5;28;01mimport\u001b[39;00m Nd2\n\u001b[1;32m      5\u001b[0m \u001b[38;5;28;01mtry\u001b[39;00m:\n",
      "File \u001b[0;32m~/miniconda3/envs/exm-toolbox/lib/python3.10/site-packages/nd2reader/reader.py:1\u001b[0m, in \u001b[0;36m<module>\u001b[0;34m\u001b[0m\n\u001b[0;32m----> 1\u001b[0m \u001b[38;5;28;01mfrom\u001b[39;00m \u001b[38;5;21;01mpims\u001b[39;00m \u001b[38;5;28;01mimport\u001b[39;00m Frame\n\u001b[1;32m      2\u001b[0m \u001b[38;5;28;01mfrom\u001b[39;00m \u001b[38;5;21;01mpims\u001b[39;00m\u001b[38;5;21;01m.\u001b[39;00m\u001b[38;5;21;01mbase_frames\u001b[39;00m \u001b[38;5;28;01mimport\u001b[39;00m FramesSequenceND\n\u001b[1;32m      4\u001b[0m \u001b[38;5;28;01mfrom\u001b[39;00m \u001b[38;5;21;01mnd2reader\u001b[39;00m\u001b[38;5;21;01m.\u001b[39;00m\u001b[38;5;21;01mexceptions\u001b[39;00m \u001b[38;5;28;01mimport\u001b[39;00m EmptyFileError, InvalidFileType\n",
      "File \u001b[0;32m~/miniconda3/envs/exm-toolbox/lib/python3.10/site-packages/pims/__init__.py:1\u001b[0m, in \u001b[0;36m<module>\u001b[0;34m\u001b[0m\n\u001b[0;32m----> 1\u001b[0m \u001b[38;5;28;01mfrom\u001b[39;00m \u001b[38;5;21;01mpims\u001b[39;00m\u001b[38;5;21;01m.\u001b[39;00m\u001b[38;5;21;01mapi\u001b[39;00m \u001b[38;5;28;01mimport\u001b[39;00m \u001b[38;5;241m*\u001b[39m\n\u001b[1;32m      3\u001b[0m \u001b[38;5;28;01mfrom\u001b[39;00m \u001b[38;5;21;01m.\u001b[39;00m\u001b[38;5;21;01m_version\u001b[39;00m \u001b[38;5;28;01mimport\u001b[39;00m get_versions\n\u001b[1;32m      4\u001b[0m __version__ \u001b[38;5;241m=\u001b[39m get_versions()[\u001b[38;5;124m'\u001b[39m\u001b[38;5;124mversion\u001b[39m\u001b[38;5;124m'\u001b[39m]\n",
      "File \u001b[0;32m~/miniconda3/envs/exm-toolbox/lib/python3.10/site-packages/pims/api.py:19\u001b[0m, in \u001b[0;36m<module>\u001b[0;34m\u001b[0m\n\u001b[1;32m     17\u001b[0m \u001b[38;5;28;01mfrom\u001b[39;00m \u001b[38;5;21;01mpims\u001b[39;00m\u001b[38;5;21;01m.\u001b[39;00m\u001b[38;5;21;01mimage_sequence\u001b[39;00m \u001b[38;5;28;01mimport\u001b[39;00m ImageSequence, ImageSequenceND, ReaderSequence  \u001b[38;5;66;03m# noqa\u001b[39;00m\n\u001b[1;32m     18\u001b[0m \u001b[38;5;28;01mfrom\u001b[39;00m \u001b[38;5;21;01mpims\u001b[39;00m\u001b[38;5;21;01m.\u001b[39;00m\u001b[38;5;21;01mimage_reader\u001b[39;00m \u001b[38;5;28;01mimport\u001b[39;00m ImageReader, ImageReaderND  \u001b[38;5;66;03m# noqa\u001b[39;00m\n\u001b[0;32m---> 19\u001b[0m \u001b[38;5;28;01mfrom\u001b[39;00m \u001b[38;5;21;01m.\u001b[39;00m\u001b[38;5;21;01mcine\u001b[39;00m \u001b[38;5;28;01mimport\u001b[39;00m Cine  \u001b[38;5;66;03m# noqa\u001b[39;00m\n\u001b[1;32m     20\u001b[0m \u001b[38;5;28;01mfrom\u001b[39;00m \u001b[38;5;21;01m.\u001b[39;00m\u001b[38;5;21;01mnorpix_reader\u001b[39;00m \u001b[38;5;28;01mimport\u001b[39;00m NorpixSeq  \u001b[38;5;66;03m# noqa\u001b[39;00m\n\u001b[1;32m     21\u001b[0m \u001b[38;5;28;01mfrom\u001b[39;00m \u001b[38;5;21;01mpims\u001b[39;00m\u001b[38;5;21;01m.\u001b[39;00m\u001b[38;5;21;01mtiff_stack\u001b[39;00m \u001b[38;5;28;01mimport\u001b[39;00m TiffStack_tifffile  \u001b[38;5;66;03m# noqa\u001b[39;00m\n",
      "File \u001b[0;32m~/miniconda3/envs/exm-toolbox/lib/python3.10/site-packages/pims/cine.py:29\u001b[0m, in \u001b[0;36m<module>\u001b[0;34m\u001b[0m\n\u001b[1;32m     27\u001b[0m \u001b[38;5;28;01mimport\u001b[39;00m \u001b[38;5;21;01msys\u001b[39;00m\n\u001b[1;32m     28\u001b[0m \u001b[38;5;28;01mimport\u001b[39;00m \u001b[38;5;21;01mwarnings\u001b[39;00m\n\u001b[0;32m---> 29\u001b[0m \u001b[38;5;28;01mfrom\u001b[39;00m \u001b[38;5;21;01mcollections\u001b[39;00m \u001b[38;5;28;01mimport\u001b[39;00m Iterable\n\u001b[1;32m     31\u001b[0m __all__ \u001b[38;5;241m=\u001b[39m (\u001b[38;5;124m'\u001b[39m\u001b[38;5;124mCine\u001b[39m\u001b[38;5;124m'\u001b[39m, )\n\u001b[1;32m     34\u001b[0m \u001b[38;5;66;03m# '<' for little endian (cine documentation)\u001b[39;00m\n",
      "\u001b[0;31mImportError\u001b[0m: cannot import name 'Iterable' from 'collections' (/home/ebesier/miniconda3/envs/exm-toolbox/lib/python3.10/collections/__init__.py)"
     ]
    }
   ],
   "source": [
    "from nd2reader import ND2Reader"
   ]
  },
  {
   "cell_type": "code",
   "execution_count": 5,
   "id": "a6c5fe42",
   "metadata": {},
   "outputs": [],
   "source": [
    "# About: Round 1 to Round 4 are images of 12 RNAs using HCR-FISH, \n",
    "# Round 5 to Round 7 are images of proteins using antibody staining. \n",
    "# We want to align rounds of images using the 405 channel (index 0), and register to Round 1.\n",
    "# We will perform segmentation later. "
   ]
  },
  {
   "cell_type": "code",
   "execution_count": 6,
   "id": "301be58c",
   "metadata": {},
   "outputs": [],
   "source": [
    "from alignment_modules import nd2ToVol"
   ]
  },
  {
   "cell_type": "code",
   "execution_count": 6,
   "id": "befb4ecd",
   "metadata": {},
   "outputs": [],
   "source": [
    "outputs = []\n",
    "\n",
    "f_vol_fix = './Round1.nd2'\n",
    "\n",
    "for i in range(2, 8):\n",
    "    f_vol_move = './Round' + str(i) + '.nd2'\n",
    "    f_vol_out = './Round' + str(i) + '_warped.h5'\n",
    "    \n",
    "    m_transform_type = ['affine'] \n",
    "    m_channel_name = '405' # okay to be partial name\n",
    "    m_resolution = [1.625,1.625, 4] # um: xyz. the image volume is in zyx-order\n",
    "    \n",
    "    # main function to run\n",
    "    elastixImageFilter = sitk.ElastixImageFilter()\n",
    "\n",
    "    # 1. set transformation parameters\n",
    "    if len(m_transform_type) == 1:\n",
    "        param_map = sitk.GetDefaultParameterMap(m_transform_type[0])\n",
    "        param_map['NumberOfSamplesForExactGradient'] = ['100000']\n",
    "        param_map['MaximumNumberOfIterations'] = ['10000']\n",
    "        param_map['MaximumNumberOfSamplingAttempts'] = ['15']\n",
    "        param_map['FinalBSplineInterpolationOrder'] = ['1']\n",
    "        elastixImageFilter.SetParameterMap(param_map)\n",
    "    else:\n",
    "        parameterMapVector = sitk.VectorOfParameterMap()\n",
    "        for trans in m_transform_type:\n",
    "            parameterMapVector.append(sitk.GetDefaultParameterMap(trans))\n",
    "        elastixImageFilter.SetParameterMap(parameterMapVector)\n",
    "\n",
    "    # 2. load volume\n",
    "    img_np = nd2ToVol(f_vol_fix, m_channel_name)\n",
    "    print('vol-fix shape:', img_np.shape)\n",
    "    img = sitk.GetImageFromArray(img_np)\n",
    "    img.SetSpacing(m_resolution)\n",
    "    elastixImageFilter.SetFixedImage(img)\n",
    "    \n",
    "    img_np = nd2ToVol(f_vol_move, m_channel_name)\n",
    "    print('vol-move shape:', img_np.shape)\n",
    "    img = sitk.GetImageFromArray(img_np)\n",
    "    img.SetSpacing(m_resolution)\n",
    "    elastixImageFilter.SetMovingImage(img)\n",
    "\n",
    "    # 3. compute transformation\n",
    "    elastixImageFilter.Execute()\n",
    "\n",
    "    # 4. save output\n",
    "    # save transformation param\n",
    "    param_map = elastixImageFilter.GetTransformParameterMap()[0]\n",
    "    sitk.WriteParameterFile(param_map, f_vol_out[:f_vol_out.rfind('.')] + '.txt')\n",
    "\n",
    "    # save warped channels\n",
    "    channel_names = ND2Reader(f_vol_move).metadata['channels']\n",
    "\n",
    "    if len(channel_names) == 1:\n",
    "        # directly save\n",
    "        sitk.WriteImage(sitk.Cast(elastixImageFilter.GetResultImage(), sitk.sitkUInt16), f_vol_out)\n",
    "    else:\n",
    "        fid = h5py.File(f_vol_out, 'w')\n",
    "        ds = fid.create_dataset('spacing', [3], compression=\"gzip\", dtype=int)\n",
    "        ds[:] = np.array(m_resolution).astype(int)\n",
    "        # image type: float -> np.uint16\n",
    "        img_out = sitk.GetArrayFromImage(elastixImageFilter.GetResultImage()).astype(np.uint16)\n",
    "        ds = fid.create_dataset([x for x in channel_names if m_channel_name in x][0], img_out.shape, compression=\"gzip\", dtype=img_out.dtype)\n",
    "        ds[:] = img_out\n",
    "\n",
    "        # warp other channels\n",
    "        transformixImageFilter = sitk.TransformixImageFilter()\n",
    "        transformixImageFilter.SetTransformParameterMap(param_map)\n",
    "        for channel_name in channel_names:\n",
    "            if m_channel_name not in channel_name:\n",
    "                img_np = nd2ToVol(f_vol_move, channel_name)\n",
    "                print('vol 2:', channel_name, img_np.shape)\n",
    "                img = sitk.GetImageFromArray(img_np)\n",
    "                img.SetSpacing(m_resolution)\n",
    "                transformixImageFilter.SetMovingImage(img)\n",
    "                transformixImageFilter.Execute()\n",
    "                img_out = sitk.GetArrayFromImage(transformixImageFilter.GetResultImage()).astype(np.uint16)\n",
    "                ds = fid.create_dataset(channel_name, img_out.shape, compression=\"gzip\", dtype=img_out.dtype)\n",
    "                ds[:] = img_out\n",
    "        fid.close()\n",
    "        \n",
    "    outputs.append(f_vol_out)"
   ]
  },
  {
   "cell_type": "code",
   "execution_count": null,
   "id": "5d425f27",
   "metadata": {},
   "outputs": [],
   "source": [
    "# Visualize results\n",
    "\n",
    "from alignment_modules import display_vol\n",
    "\n",
    "round_ = 2 #\n",
    "assert round_ in [2, 3, 4, 5, 6, 7]\n",
    "\n",
    "f_vol_out = outputs[round_ - 2]\n",
    "viewer = napari.Viewer()\n",
    "channel_names = ND2Reader(f_vol_fix).metadata['channels']\n",
    "display_vol(f_vol_fix, f_vol_out, channel_names[0])"
   ]
  },
  {
   "cell_type": "code",
   "execution_count": null,
   "id": "a87dbba2",
   "metadata": {},
   "outputs": [],
   "source": []
  }
 ],
 "metadata": {
  "kernelspec": {
   "display_name": "exm-toolbox",
   "language": "python",
   "name": "exm-toolbox"
  },
  "language_info": {
   "codemirror_mode": {
    "name": "ipython",
    "version": 3
   },
   "file_extension": ".py",
   "mimetype": "text/x-python",
   "name": "python",
   "nbconvert_exporter": "python",
   "pygments_lexer": "ipython3",
   "version": "3.10.2"
  }
 },
 "nbformat": 4,
 "nbformat_minor": 5
}
