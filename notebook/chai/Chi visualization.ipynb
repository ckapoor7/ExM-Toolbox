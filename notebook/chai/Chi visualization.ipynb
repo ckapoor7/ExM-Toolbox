{
 "cells": [
  {
   "cell_type": "code",
   "execution_count": 13,
   "id": "4d50d85d",
   "metadata": {},
   "outputs": [],
   "source": [
    "import napari\n",
    "import nd2\n",
    "from alignment_modules import nd2ToVol\n",
    "from nd2reader import ND2Reader\n",
    "import numpy as np\n",
    "import h5py"
   ]
  },
  {
   "cell_type": "code",
   "execution_count": 14,
   "id": "64bbd058",
   "metadata": {},
   "outputs": [],
   "source": [
    "def display_vol(f_vol_fix, f_vol_out, channel_name, ratio = [1,1,1]):\n",
    "    # ratio: display downsampled volume\n",
    "    img_fix = nd2ToVol(f_vol_fix, channel_name)\n",
    "    viewer.add_image(img_fix[::ratio[0], ::ratio[1], ::ratio[2]], \\\n",
    "                      name = 'fixed-'+channel_name, \\\n",
    "                      scale = m_resolution[::-1])\n",
    "\n",
    "    img_warp = np.array(h5py.File(f_vol_out, 'r')[channel_name])\n",
    "    viewer.add_image(img_warp[::ratio[0], ::ratio[1], ::ratio[2]], \\\n",
    "                      name = 'warped-'+channel_name, \\\n",
    "                      scale = m_resolution[::-1])"
   ]
  },
  {
   "cell_type": "code",
   "execution_count": 18,
   "id": "a27f160a",
   "metadata": {},
   "outputs": [
    {
     "name": "stdout",
     "output_type": "stream",
     "text": [
      "Available channels: ['640 SD', '561 SD', '488 SD', '405 SD']\n"
     ]
    }
   ],
   "source": [
    "# Visualize results\n",
    "\n",
    "import nd2\n",
    "\n",
    "from nd2reader import ND2Reader\n",
    "\n",
    "round_ = 2\n",
    "assert round_ in [2, 3, 4, 5, 6, 7]\n",
    "\n",
    "m_resolution = [1.625,1.625, 4]\n",
    "f_vol_fix = './Round1.nd2'\n",
    "f_vol_move = './Round' + str(round_) + '.nd2'\n",
    "f_vol_out = './Round' + str(round_) + '_warped.h5'\n",
    "channel_names = ND2Reader(f_vol_move).metadata['channels']\n",
    "\n",
    "viewer = napari.Viewer()\n",
    "channel_names = ND2Reader(f_vol_fix).metadata['channels']\n",
    "display_vol(f_vol_fix, f_vol_out, channel_names[0])"
   ]
  },
  {
   "cell_type": "code",
   "execution_count": null,
   "id": "51de1986",
   "metadata": {},
   "outputs": [],
   "source": []
  }
 ],
 "metadata": {
  "kernelspec": {
   "display_name": "Python 3",
   "language": "python",
   "name": "python3"
  },
  "language_info": {
   "codemirror_mode": {
    "name": "ipython",
    "version": 3
   },
   "file_extension": ".py",
   "mimetype": "text/x-python",
   "name": "python",
   "nbconvert_exporter": "python",
   "pygments_lexer": "ipython3",
   "version": "3.8.8"
  }
 },
 "nbformat": 4,
 "nbformat_minor": 5
}
