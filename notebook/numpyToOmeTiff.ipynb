{
  "nbformat": 4,
  "nbformat_minor": 0,
  "metadata": {
    "colab": {
      "name": "numpyToOmeTiff.ipynb",
      "provenance": []
    },
    "kernelspec": {
      "name": "python3",
      "display_name": "Python 3"
    },
    "language_info": {
      "name": "python"
    }
  },
  "cells": [
    {
      "cell_type": "code",
      "execution_count": 1,
      "metadata": {
        "colab": {
          "base_uri": "https://localhost:8080/"
        },
        "id": "EHVl6W-1ySzr",
        "outputId": "630b44e6-94c4-4e9d-d3ab-ad8bc0942ef7"
      },
      "outputs": [
        {
          "output_type": "stream",
          "name": "stdout",
          "text": [
            "Requirement already satisfied: tifffile in /usr/local/lib/python3.7/dist-packages (2021.11.2)\n",
            "Requirement already satisfied: numpy>=1.15.1 in /usr/local/lib/python3.7/dist-packages (from tifffile) (1.21.5)\n"
          ]
        }
      ],
      "source": [
        "!pip install tifffile\n",
        "import numpy\n",
        "from tifffile import imwrite\n",
        "\n",
        "# a numpy array image volume with z as 21 , 32 channels , and 1024*1024 as yx dimensions.\n",
        "image = numpy.zeros((21, 32, 1024, 1024), dtype='uint16')\n",
        "\n",
        "# write OME-TIFF\n",
        "imwrite('zcyx.ome.tif', image)\n"
      ]
    }
  ]
}