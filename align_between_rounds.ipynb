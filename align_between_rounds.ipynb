{
 "cells": [
  {
   "cell_type": "markdown",
   "id": "5c885ad5-17c9-4cad-a59c-89f3d3cb88c6",
   "metadata": {},
   "source": [
    "# TO CHANGE"
   ]
  },
  {
   "cell_type": "code",
   "execution_count": null,
   "id": "cdc50d07-ae0f-4f3c-8564-53f274b0bb82",
   "metadata": {},
   "outputs": [],
   "source": [
    "# file names\n",
    "D0 = '/n/boslfs02/LABS/lichtman_lab/donglai/ExM/Chi/'\n",
    "f_vol_fix = D0 + '20211130_larva1_barcode3.nd2'\n",
    "f_vol_move = D0 + '20211130_larva1_barcode5.nd2'\n",
    "f_vol_out = D0 + '20211130_larva1_barcode5_warped.h5'\n",
    "\n",
    "# ['rigid']: rigid transformation (rotation + translation)\n",
    "# ['affine']: affine transformation (rigid + shear)\n",
    "# ['affine', 'bspline']: non-rigid transformation (affine + b-spline)\n",
    "m_transform_type = ['affine'] \n",
    "m_channel_name = '405' # okay to be partial name\n",
    "m_resolution = [4,1.625,1.625] # um"
   ]
  },
  {
   "cell_type": "markdown",
   "id": "70ec7d7c-6c09-4a00-a3d2-7afa46f29315",
   "metadata": {},
   "source": [
    "# TO RUN"
   ]
  },
  {
   "cell_type": "code",
   "execution_count": null,
   "id": "35247eec-9a67-47e0-9130-ad31ebd83f0d",
   "metadata": {},
   "outputs": [],
   "source": [
    "# library and utility functions\n",
    "import numpy as np\n",
    "import SimpleITK as sitk\n",
    "from nd2reader import ND2Reader\n",
    "\n",
    "def nd2ToVol(filename, channel_name='405', ratio=1):\n",
    "    vol = ND2Reader(filename)\n",
    "    channel_names = vol.metadata['channels']\n",
    "    print('Availabel channels:', channel_names)\n",
    "    channel_id = [x for x in range(len(channel_names)) if channel_name in channel_names[x]]\n",
    "    assert len(channel_id) == 1\n",
    "    channel_id = channel_id[0]\n",
    "\n",
    "    out = np.zeros([len(vol), vol[0].shape[0] // ratio, vol[0].shape[1] // ratio], np.uint16)\n",
    "    for z in range(len(vol)):\n",
    "        out[z] = vol.get_frame_2D(c=channel_id, t=0, z=z, x=0, y=0, v=0)[::ratio, ::ratio]\n",
    "    return out"
   ]
  },
  {
   "cell_type": "code",
   "execution_count": null,
   "id": "a8b17d7c-7f83-4d1d-b574-682a8d0c0e2b",
   "metadata": {},
   "outputs": [],
   "source": [
    "# main function to run\n",
    "elastixImageFilter = sitk.ElastixImageFilter()\n",
    "\n",
    "# 1. set transformation parameters\n",
    "if len(m_transform_type) == 1:\n",
    "    elastixImageFilter.SetParameterMap(sitk.GetDefaultParameterMap(m_transform_type[0]))\n",
    "else:\n",
    "    parameterMapVector = sitk.VectorOfParameterMap()\n",
    "    for trans in m_transform_type:\n",
    "        parameterMapVector.append(sitk.GetDefaultParameterMap(trans))\n",
    "    elastixImageFilter.SetParameterMap(parameterMapVector)\n",
    "\n",
    "# 2. load volume\n",
    "img_np = nd2ToVol(f_vol_fix, channel_name)\n",
    "print('vol-fix shape:', img_np.shape)\n",
    "img = sitk.GetImageFromArray(img_np)\n",
    "img.SetSpacing(m_resolution)\n",
    "elastixImageFilter.SetFixedImage(img)\n",
    "\n",
    "img_np = nd2ToVol(f_vol_move, channel_name)\n",
    "print('vol-move shape:', img_np.shape)\n",
    "img = sitk.GetImageFromArray(img_np)\n",
    "img.SetSpacing(m_resolution)\n",
    "elastixImageFilter.SetMovingImage(img)\n",
    "\n",
    "# 3. compute transformation\n",
    "elastixImageFilter.Execute()\n",
    "\n",
    "# 4. save output\n",
    "# image type: float -> np.uint16\n",
    "sitk.WriteImage(sitk.Cast(elastixImageFilter.GetResultImage(), sitk.sitkUInt16), f_vol_out)\n",
    "sitk.WriteParameterFile(elastixImageFilter.GetTransformParameterMap()[0], f_vol_out[:f_vol_out.rfind('.')] + '.tfm')"
   ]
  }
 ],
 "metadata": {
  "kernelspec": {
   "display_name": "Python 3",
   "language": "python",
   "name": "python3"
  },
  "language_info": {
   "codemirror_mode": {
    "name": "ipython",
    "version": 3
   },
   "file_extension": ".py",
   "mimetype": "text/x-python",
   "name": "python",
   "nbconvert_exporter": "python",
   "pygments_lexer": "ipython3",
   "version": "3.8.8"
  }
 },
 "nbformat": 4,
 "nbformat_minor": 5
}
