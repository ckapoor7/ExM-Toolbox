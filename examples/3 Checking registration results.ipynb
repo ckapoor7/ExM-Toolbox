{
 "cells": [
  {
   "cell_type": "markdown",
   "id": "152b60c6-c103-439b-ac90-5cca6a32a104",
   "metadata": {},
   "source": [
    "# Checking registration results"
   ]
  },
  {
   "cell_type": "code",
   "execution_count": null,
   "id": "74d9aaf0-80fa-4bd4-be4b-5d1acb8df67e",
   "metadata": {},
   "outputs": [],
   "source": []
  }
 ],
 "metadata": {
  "kernelspec": {
   "display_name": "Python 3 (ipykernel)",
   "language": "python",
   "name": "python3"
  },
  "language_info": {
   "codemirror_mode": {
    "name": "ipython",
    "version": 3
   },
   "file_extension": ".py",
   "mimetype": "text/x-python",
   "name": "python",
   "nbconvert_exporter": "python",
   "pygments_lexer": "ipython3",
   "version": "3.9.7"
  }
 },
 "nbformat": 4,
 "nbformat_minor": 5
}
